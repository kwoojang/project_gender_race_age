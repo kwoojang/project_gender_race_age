{
 "cells": [
  {
   "cell_type": "code",
   "execution_count": null,
   "metadata": {
    "id": "CgpftaDS21nS"
   },
   "outputs": [],
   "source": [
    "# !pip install deepface"
   ]
  },
  {
   "cell_type": "code",
   "execution_count": 1,
   "metadata": {
    "executionInfo": {
     "elapsed": 3830,
     "status": "ok",
     "timestamp": 1710826026487,
     "user": {
      "displayName": "이경로",
      "userId": "07872457750052396062"
     },
     "user_tz": -540
    },
    "id": "Dycxu4OouX_5"
   },
   "outputs": [],
   "source": [
    "import numpy as np\n",
    "import pandas as pd\n",
    "import matplotlib.pyplot as plt\n",
    "import warnings\n",
    "import random\n",
    "import cv2\n",
    "import os\n",
    "import tensorflow as tf\n",
    "from google.colab import drive\n",
    "from sklearn.model_selection import train_test_split\n",
    "from tensorflow.keras.datasets.cifar10 import load_data\n",
    "from tensorflow.keras.utils import to_categorical, load_img, img_to_array\n",
    "from tensorflow.keras.preprocessing import image\n",
    "from tensorflow.keras.models import Model, Sequential                       # Functional API 사용 예정.\n",
    "from tensorflow.keras.layers import Dense, Dropout, Flatten, Input, Conv2D, MaxPooling2D, BatchNormalization, Activation, ZeroPadding2D\n",
    "from tensorflow.keras.preprocessing import sequence, image_dataset_from_directory\n",
    "from tensorflow.keras.models import Sequential\n",
    "from tensorflow.keras.datasets.cifar10 import load_data\n",
    "from tensorflow.keras.applications import mobilenet             # 비교적 작은 크기의 모형.\n",
    "from tensorflow.keras.utils import to_categorical\n",
    "from tensorflow.keras.optimizers import Adam, RMSprop, SGD\n",
    "from tensorflow.keras.callbacks import EarlyStopping, ModelCheckpoint\n",
    "from tensorflow.keras.preprocessing.image import ImageDataGenerator\n",
    "# from deepface.basemodels import VGGFace\n",
    "warnings.filterwarnings('ignore')                               # Turn the warnings off.\n",
    "%matplotlib inline"
   ]
  },
  {
   "cell_type": "code",
   "execution_count": 2,
   "metadata": {
    "colab": {
     "base_uri": "https://localhost:8080/"
    },
    "executionInfo": {
     "elapsed": 2807,
     "status": "ok",
     "timestamp": 1710826029292,
     "user": {
      "displayName": "이경로",
      "userId": "07872457750052396062"
     },
     "user_tz": -540
    },
    "id": "lARPH4m0vVl8",
    "outputId": "17c493ae-3977-4fbc-df4b-3acb2806ccac"
   },
   "outputs": [
    {
     "name": "stdout",
     "output_type": "stream",
     "text": [
      "Drive already mounted at /content/drive; to attempt to forcibly remount, call drive.mount(\"/content/drive\", force_remount=True).\n"
     ]
    }
   ],
   "source": [
    "drive.mount('/content/drive')"
   ]
  },
  {
   "cell_type": "code",
   "execution_count": 3,
   "metadata": {
    "executionInfo": {
     "elapsed": 13,
     "status": "ok",
     "timestamp": 1710826029292,
     "user": {
      "displayName": "이경로",
      "userId": "07872457750052396062"
     },
     "user_tz": -540
    },
    "id": "Sdd4EEyTvdij"
   },
   "outputs": [],
   "source": [
    "os.chdir('/content/drive/MyDrive/TensorFlow/99. Project/Face_Predict')"
   ]
  },
  {
   "cell_type": "code",
   "execution_count": 4,
   "metadata": {
    "executionInfo": {
     "elapsed": 12,
     "status": "ok",
     "timestamp": 1710826029292,
     "user": {
      "displayName": "이경로",
      "userId": "07872457750052396062"
     },
     "user_tz": -540
    },
    "id": "EtRxLJxRujMG"
   },
   "outputs": [],
   "source": [
    "train_gender_datagen = ImageDataGenerator()\n",
    "test_gender_datagen = ImageDataGenerator()"
   ]
  },
  {
   "cell_type": "code",
   "execution_count": 5,
   "metadata": {
    "colab": {
     "base_uri": "https://localhost:8080/"
    },
    "executionInfo": {
     "elapsed": 11,
     "status": "ok",
     "timestamp": 1710826029292,
     "user": {
      "displayName": "이경로",
      "userId": "07872457750052396062"
     },
     "user_tz": -540
    },
    "id": "HKDDmYX4vSOv",
    "outputId": "4fd7b70d-d024-4bec-cbc6-712fd828216e"
   },
   "outputs": [
    {
     "name": "stdout",
     "output_type": "stream",
     "text": [
      "/content/drive/MyDrive/TensorFlow/99. Project/Face_Predict\n"
     ]
    }
   ],
   "source": [
    "!pwd"
   ]
  },
  {
   "cell_type": "code",
   "execution_count": 6,
   "metadata": {
    "colab": {
     "base_uri": "https://localhost:8080/"
    },
    "executionInfo": {
     "elapsed": 9,
     "status": "ok",
     "timestamp": 1710826029292,
     "user": {
      "displayName": "이경로",
      "userId": "07872457750052396062"
     },
     "user_tz": -540
    },
    "id": "TtUil_JRvTlf",
    "outputId": "e1f3e215-58d8-4b3c-f140-e695082c8248"
   },
   "outputs": [
    {
     "data": {
      "text/plain": [
       "['csv',\n",
       " 'sample01.ipynb',\n",
       " 'sample02.ipynb',\n",
       " 'vgg_face_weights.h5',\n",
       " 'kaggle.json',\n",
       " 'UTKFace',\n",
       " 'data01.csv',\n",
       " 'Code',\n",
       " 'keras_vggface',\n",
       " '.ipynb_checkpoints',\n",
       " 'Train',\n",
       " 'Test']"
      ]
     },
     "execution_count": 6,
     "metadata": {},
     "output_type": "execute_result"
    }
   ],
   "source": [
    "os.listdir()"
   ]
  },
  {
   "cell_type": "code",
   "execution_count": 7,
   "metadata": {
    "colab": {
     "base_uri": "https://localhost:8080/"
    },
    "executionInfo": {
     "elapsed": 8,
     "status": "ok",
     "timestamp": 1710826029292,
     "user": {
      "displayName": "이경로",
      "userId": "07872457750052396062"
     },
     "user_tz": -540
    },
    "id": "Av7VueH_ujPO",
    "outputId": "a5688ad5-4a06-4717-a49a-458e477fd6d3"
   },
   "outputs": [
    {
     "name": "stdout",
     "output_type": "stream",
     "text": [
      "Found 5475 images belonging to 2 classes.\n",
      "Found 1870 images belonging to 2 classes.\n"
     ]
    }
   ],
   "source": [
    "train_gender_generator = train_gender_datagen.flow_from_directory(\n",
    "    './Train/Gender',\n",
    "    target_size=(224, 224),\n",
    "    batch_size=32,\n",
    "    class_mode='binary'\n",
    ")\n",
    "\n",
    "test_gender_generator = test_gender_datagen.flow_from_directory(\n",
    "    './Test/Gender',\n",
    "    target_size=(224, 224),\n",
    "    batch_size=32,\n",
    "    class_mode='binary'\n",
    ")"
   ]
  },
  {
   "cell_type": "code",
   "execution_count": 8,
   "metadata": {
    "colab": {
     "base_uri": "https://localhost:8080/"
    },
    "executionInfo": {
     "elapsed": 7,
     "status": "ok",
     "timestamp": 1710826029292,
     "user": {
      "displayName": "이경로",
      "userId": "07872457750052396062"
     },
     "user_tz": -540
    },
    "id": "-OWL12Sx0NTu",
    "outputId": "44e940b9-fc04-4379-9e6a-f9ff5c50abb0"
   },
   "outputs": [
    {
     "data": {
      "text/plain": [
       "{'Female': 0, 'Male': 1}"
      ]
     },
     "execution_count": 8,
     "metadata": {},
     "output_type": "execute_result"
    }
   ],
   "source": [
    "train_gender_generator.class_indices"
   ]
  },
  {
   "cell_type": "code",
   "execution_count": 9,
   "metadata": {
    "colab": {
     "base_uri": "https://localhost:8080/"
    },
    "executionInfo": {
     "elapsed": 6,
     "status": "ok",
     "timestamp": 1710826029292,
     "user": {
      "displayName": "이경로",
      "userId": "07872457750052396062"
     },
     "user_tz": -540
    },
    "id": "hsX7F2DBujSK",
    "outputId": "737e3e80-f9d4-4b52-f1a9-05fdec36f470"
   },
   "outputs": [
    {
     "data": {
      "text/plain": [
       "{'Female': 0, 'Male': 1}"
      ]
     },
     "execution_count": 9,
     "metadata": {},
     "output_type": "execute_result"
    }
   ],
   "source": [
    "test_gender_generator.class_indices"
   ]
  },
  {
   "cell_type": "code",
   "execution_count": 10,
   "metadata": {
    "colab": {
     "base_uri": "https://localhost:8080/"
    },
    "executionInfo": {
     "elapsed": 5,
     "status": "ok",
     "timestamp": 1710826029292,
     "user": {
      "displayName": "이경로",
      "userId": "07872457750052396062"
     },
     "user_tz": -540
    },
    "id": "JGy_Bwv01QC0",
    "outputId": "ae51ea5b-dc8a-47af-f1d2-acfd735eb30e"
   },
   "outputs": [
    {
     "name": "stdout",
     "output_type": "stream",
     "text": [
      "total 568098\n",
      "drwx------ 2 root root      4096 Mar 18 08:41 Code\n",
      "drwx------ 2 root root      4096 Mar 14 05:49 csv\n",
      "-rw------- 1 root root   1060692 Mar 18 05:25 data01.csv\n",
      "-rw------- 1 root root        66 Mar 18 00:39 kaggle.json\n",
      "drwx------ 2 root root      4096 Mar 18 14:24 keras_vggface\n",
      "-rw------- 1 root root    470357 Mar 14 07:00 sample01.ipynb\n",
      "-rw------- 1 root root     89325 Mar 14 08:24 sample02.ipynb\n",
      "drwx------ 3 root root      4096 Mar 19 04:06 Test\n",
      "drwx------ 4 root root      4096 Mar 19 04:06 Train\n",
      "drwx------ 2 root root      4096 Mar 18 00:42 UTKFace\n",
      "-rw------- 1 root root 580085408 Mar 15 00:07 vgg_face_weights.h5\n"
     ]
    }
   ],
   "source": [
    "!ls -l"
   ]
  },
  {
   "cell_type": "code",
   "execution_count": 11,
   "metadata": {
    "colab": {
     "base_uri": "https://localhost:8080/"
    },
    "executionInfo": {
     "elapsed": 5029,
     "status": "ok",
     "timestamp": 1710826034318,
     "user": {
      "displayName": "이경로",
      "userId": "07872457750052396062"
     },
     "user_tz": -540
    },
    "id": "_XmHOnT8ujVS",
    "outputId": "e11e5ceb-040c-4e80-deb2-5628e169ccbd"
   },
   "outputs": [
    {
     "name": "stdout",
     "output_type": "stream",
     "text": [
      "Requirement already satisfied: keras_vggface in /usr/local/lib/python3.10/dist-packages (0.6)\n",
      "Requirement already satisfied: numpy>=1.9.1 in /usr/local/lib/python3.10/dist-packages (from keras_vggface) (1.25.2)\n",
      "Requirement already satisfied: scipy>=0.14 in /usr/local/lib/python3.10/dist-packages (from keras_vggface) (1.11.4)\n",
      "Requirement already satisfied: h5py in /usr/local/lib/python3.10/dist-packages (from keras_vggface) (3.9.0)\n",
      "Requirement already satisfied: pillow in /usr/local/lib/python3.10/dist-packages (from keras_vggface) (9.4.0)\n",
      "Requirement already satisfied: keras in /usr/local/lib/python3.10/dist-packages (from keras_vggface) (2.12.0)\n",
      "Requirement already satisfied: six>=1.9.0 in /usr/local/lib/python3.10/dist-packages (from keras_vggface) (1.16.0)\n",
      "Requirement already satisfied: pyyaml in /usr/local/lib/python3.10/dist-packages (from keras_vggface) (6.0.1)\n"
     ]
    }
   ],
   "source": [
    "!pip install keras_vggface"
   ]
  },
  {
   "cell_type": "code",
   "execution_count": 12,
   "metadata": {
    "colab": {
     "base_uri": "https://localhost:8080/"
    },
    "executionInfo": {
     "elapsed": 4929,
     "status": "ok",
     "timestamp": 1710826039236,
     "user": {
      "displayName": "이경로",
      "userId": "07872457750052396062"
     },
     "user_tz": -540
    },
    "id": "GFcVm23U8bk8",
    "outputId": "784f8827-871b-468a-dd0f-bef885e6382b"
   },
   "outputs": [
    {
     "name": "stdout",
     "output_type": "stream",
     "text": [
      "Requirement already satisfied: keras_applications in /usr/local/lib/python3.10/dist-packages (1.0.8)\n",
      "Requirement already satisfied: numpy>=1.9.1 in /usr/local/lib/python3.10/dist-packages (from keras_applications) (1.25.2)\n",
      "Requirement already satisfied: h5py in /usr/local/lib/python3.10/dist-packages (from keras_applications) (3.9.0)\n"
     ]
    }
   ],
   "source": [
    "!pip install keras_applications"
   ]
  },
  {
   "cell_type": "code",
   "execution_count": 13,
   "metadata": {
    "colab": {
     "base_uri": "https://localhost:8080/",
     "height": 35
    },
    "executionInfo": {
     "elapsed": 5,
     "status": "ok",
     "timestamp": 1710826039236,
     "user": {
      "displayName": "이경로",
      "userId": "07872457750052396062"
     },
     "user_tz": -540
    },
    "id": "rPyOxU5t-l5V",
    "outputId": "403b5930-a1f4-4212-8fdc-72f59608c7d6"
   },
   "outputs": [
    {
     "data": {
      "application/vnd.google.colaboratory.intrinsic+json": {
       "type": "string"
      },
      "text/plain": [
       "'2.12.0'"
      ]
     },
     "execution_count": 13,
     "metadata": {},
     "output_type": "execute_result"
    }
   ],
   "source": [
    "import keras\n",
    "keras.__version__"
   ]
  },
  {
   "cell_type": "code",
   "execution_count": 14,
   "metadata": {
    "executionInfo": {
     "elapsed": 3,
     "status": "ok",
     "timestamp": 1710826080704,
     "user": {
      "displayName": "이경로",
      "userId": "07872457750052396062"
     },
     "user_tz": -540
    },
    "id": "ETaCXrSa_s5-"
   },
   "outputs": [],
   "source": [
    "# !pip uninstall keras\n",
    "# !pip install keras==2.12"
   ]
  },
  {
   "cell_type": "code",
   "execution_count": 15,
   "metadata": {
    "executionInfo": {
     "elapsed": 3,
     "status": "ok",
     "timestamp": 1710825692600,
     "user": {
      "displayName": "이경로",
      "userId": "07872457750052396062"
     },
     "user_tz": -540
    },
    "id": "X689QYg1krzM"
   },
   "outputs": [],
   "source": [
    "# !pip install keras_applications"
   ]
  },
  {
   "cell_type": "code",
   "execution_count": 15,
   "metadata": {
    "executionInfo": {
     "elapsed": 2793,
     "status": "ok",
     "timestamp": 1710826091970,
     "user": {
      "displayName": "이경로",
      "userId": "07872457750052396062"
     },
     "user_tz": -540
    },
    "id": "8YU92Bx3ujYd"
   },
   "outputs": [],
   "source": [
    "from keras_vggface.vggface import VGGFace"
   ]
  },
  {
   "cell_type": "code",
   "execution_count": 17,
   "metadata": {
    "executionInfo": {
     "elapsed": 3,
     "status": "ok",
     "timestamp": 1710825698020,
     "user": {
      "displayName": "이경로",
      "userId": "07872457750052396062"
     },
     "user_tz": -540
    },
    "id": "CYupUZYzujbg"
   },
   "outputs": [],
   "source": [
    "# #VGG-Face model\n",
    "# model = Sequential()\n",
    "# model.add(ZeroPadding2D((1,1),input_shape=(224,224, 3)))\n",
    "# model.add(Conv2D(64, (3, 3), activation='relu'))\n",
    "# model.add(ZeroPadding2D((1,1)))\n",
    "# model.add(Conv2D(64, (3, 3), activation='relu'))\n",
    "# model.add(MaxPooling2D((2,2), strides=(2,2)))\n",
    "\n",
    "# model.add(ZeroPadding2D((1,1)))\n",
    "# model.add(Conv2D(128, (3, 3), activation='relu'))\n",
    "# model.add(ZeroPadding2D((1,1)))\n",
    "# model.add(Conv2D(128, (3, 3), activation='relu'))\n",
    "# model.add(MaxPooling2D((2,2), strides=(2,2)))\n",
    "\n",
    "# model.add(ZeroPadding2D((1,1)))\n",
    "# model.add(Conv2D(256, (3, 3), activation='relu'))\n",
    "# model.add(ZeroPadding2D((1,1)))\n",
    "# model.add(Conv2D(256, (3, 3), activation='relu'))\n",
    "# model.add(ZeroPadding2D((1,1)))\n",
    "# model.add(Conv2D(256, (3, 3), activation='relu'))\n",
    "# model.add(MaxPooling2D((2,2), strides=(2,2)))\n",
    "\n",
    "# model.add(ZeroPadding2D((1,1)))\n",
    "# model.add(Conv2D(512, (3, 3), activation='relu'))\n",
    "# model.add(ZeroPadding2D((1,1)))\n",
    "# model.add(Conv2D(512, (3, 3), activation='relu'))\n",
    "# model.add(ZeroPadding2D((1,1)))\n",
    "# model.add(Conv2D(512, (3, 3), activation='relu'))\n",
    "# model.add(MaxPooling2D((2,2), strides=(2,2)))\n",
    "\n",
    "# model.add(ZeroPadding2D((1,1)))\n",
    "# model.add(Conv2D(512, (3, 3), activation='relu'))\n",
    "# model.add(ZeroPadding2D((1,1)))\n",
    "# model.add(Conv2D(512, (3, 3), activation='relu'))\n",
    "# model.add(ZeroPadding2D((1,1)))\n",
    "# model.add(Conv2D(512, (3, 3), activation='relu'))\n",
    "# model.add(MaxPooling2D((2,2), strides=(2,2)))\n",
    "\n",
    "# model.add(Conv2D(4096, (7, 7), activation='relu'))\n",
    "# model.add(Dropout(0.5))\n",
    "# model.add(Conv2D(4096, (1, 1), activation='relu'))\n",
    "# model.add(Dropout(0.5))\n",
    "# model.add(Conv2D(2622, (1, 1)))\n",
    "# model.add(Flatten())\n",
    "# model.add(Activation('softmax'))"
   ]
  },
  {
   "cell_type": "code",
   "execution_count": 18,
   "metadata": {
    "executionInfo": {
     "elapsed": 3,
     "status": "ok",
     "timestamp": 1710825705409,
     "user": {
      "displayName": "이경로",
      "userId": "07872457750052396062"
     },
     "user_tz": -540
    },
    "id": "bqorNBI_BJmq"
   },
   "outputs": [],
   "source": [
    "# model.summary()"
   ]
  },
  {
   "cell_type": "code",
   "execution_count": 19,
   "metadata": {
    "executionInfo": {
     "elapsed": 2,
     "status": "ok",
     "timestamp": 1710825705409,
     "user": {
      "displayName": "이경로",
      "userId": "07872457750052396062"
     },
     "user_tz": -540
    },
    "id": "h6il09WcBJp8"
   },
   "outputs": [],
   "source": [
    "# model.load_weights('./vgg_face_weights.h5')"
   ]
  },
  {
   "cell_type": "code",
   "execution_count": 20,
   "metadata": {
    "executionInfo": {
     "elapsed": 2,
     "status": "ok",
     "timestamp": 1710825706239,
     "user": {
      "displayName": "이경로",
      "userId": "07872457750052396062"
     },
     "user_tz": -540
    },
    "id": "D0MHhTu4BbnS"
   },
   "outputs": [],
   "source": [
    "# model.layers[-4].output"
   ]
  },
  {
   "cell_type": "code",
   "execution_count": 21,
   "metadata": {
    "executionInfo": {
     "elapsed": 2,
     "status": "ok",
     "timestamp": 1710825706239,
     "user": {
      "displayName": "이경로",
      "userId": "07872457750052396062"
     },
     "user_tz": -540
    },
    "id": "sgcaWeZvujek"
   },
   "outputs": [],
   "source": [
    "# for layer in model.layers[:-7] :\n",
    "#   layer.trainable = False\n"
   ]
  },
  {
   "cell_type": "code",
   "execution_count": 22,
   "metadata": {
    "executionInfo": {
     "elapsed": 1,
     "status": "ok",
     "timestamp": 1710825706239,
     "user": {
      "displayName": "이경로",
      "userId": "07872457750052396062"
     },
     "user_tz": -540
    },
    "id": "mofns0DxChBX"
   },
   "outputs": [],
   "source": [
    "# model.layers[-4].output"
   ]
  },
  {
   "cell_type": "code",
   "execution_count": 23,
   "metadata": {
    "executionInfo": {
     "elapsed": 2,
     "status": "ok",
     "timestamp": 1710825707047,
     "user": {
      "displayName": "이경로",
      "userId": "07872457750052396062"
     },
     "user_tz": -540
    },
    "id": "RoQlI_gjhEUa"
   },
   "outputs": [],
   "source": [
    "# model.input"
   ]
  },
  {
   "cell_type": "code",
   "execution_count": 16,
   "metadata": {
    "colab": {
     "base_uri": "https://localhost:8080/"
    },
    "executionInfo": {
     "elapsed": 2177,
     "status": "ok",
     "timestamp": 1710826099040,
     "user": {
      "displayName": "이경로",
      "userId": "07872457750052396062"
     },
     "user_tz": -540
    },
    "id": "i4P_VWEik6iw",
    "outputId": "9d067353-ad14-459b-fc27-c6a06e82a8b2"
   },
   "outputs": [
    {
     "name": "stdout",
     "output_type": "stream",
     "text": [
      "Downloading data from https://github.com/rcmalli/keras-vggface/releases/download/v2.0/rcmalli_vggface_tf_notop_vgg16.h5\n",
      "58909280/58909280 [==============================] - 0s 0us/step\n"
     ]
    }
   ],
   "source": [
    "vggface = VGGFace(model='vgg16', include_top=False, input_shape=(224, 224, 3),\n",
    "                  pooling='avg')"
   ]
  },
  {
   "cell_type": "code",
   "execution_count": 17,
   "metadata": {
    "executionInfo": {
     "elapsed": 15,
     "status": "ok",
     "timestamp": 1710826099040,
     "user": {
      "displayName": "이경로",
      "userId": "07872457750052396062"
     },
     "user_tz": -540
    },
    "id": "d77sz8XXk6ll"
   },
   "outputs": [],
   "source": [
    "vggface.trainable = False"
   ]
  },
  {
   "cell_type": "code",
   "execution_count": 18,
   "metadata": {
    "colab": {
     "base_uri": "https://localhost:8080/"
    },
    "executionInfo": {
     "elapsed": 14,
     "status": "ok",
     "timestamp": 1710826099040,
     "user": {
      "displayName": "이경로",
      "userId": "07872457750052396062"
     },
     "user_tz": -540
    },
    "id": "3A5AOp3Bk6oi",
    "outputId": "50df7334-557f-4b77-9f14-9cb14bf56a38"
   },
   "outputs": [
    {
     "name": "stdout",
     "output_type": "stream",
     "text": [
      "Model: \"vggface_vgg16\"\n",
      "_________________________________________________________________\n",
      " Layer (type)                Output Shape              Param #   \n",
      "=================================================================\n",
      " input_1 (InputLayer)        [(None, 224, 224, 3)]     0         \n",
      "                                                                 \n",
      " conv1_1 (Conv2D)            (None, 224, 224, 64)      1792      \n",
      "                                                                 \n",
      " conv1_2 (Conv2D)            (None, 224, 224, 64)      36928     \n",
      "                                                                 \n",
      " pool1 (MaxPooling2D)        (None, 112, 112, 64)      0         \n",
      "                                                                 \n",
      " conv2_1 (Conv2D)            (None, 112, 112, 128)     73856     \n",
      "                                                                 \n",
      " conv2_2 (Conv2D)            (None, 112, 112, 128)     147584    \n",
      "                                                                 \n",
      " pool2 (MaxPooling2D)        (None, 56, 56, 128)       0         \n",
      "                                                                 \n",
      " conv3_1 (Conv2D)            (None, 56, 56, 256)       295168    \n",
      "                                                                 \n",
      " conv3_2 (Conv2D)            (None, 56, 56, 256)       590080    \n",
      "                                                                 \n",
      " conv3_3 (Conv2D)            (None, 56, 56, 256)       590080    \n",
      "                                                                 \n",
      " pool3 (MaxPooling2D)        (None, 28, 28, 256)       0         \n",
      "                                                                 \n",
      " conv4_1 (Conv2D)            (None, 28, 28, 512)       1180160   \n",
      "                                                                 \n",
      " conv4_2 (Conv2D)            (None, 28, 28, 512)       2359808   \n",
      "                                                                 \n",
      " conv4_3 (Conv2D)            (None, 28, 28, 512)       2359808   \n",
      "                                                                 \n",
      " pool4 (MaxPooling2D)        (None, 14, 14, 512)       0         \n",
      "                                                                 \n",
      " conv5_1 (Conv2D)            (None, 14, 14, 512)       2359808   \n",
      "                                                                 \n",
      " conv5_2 (Conv2D)            (None, 14, 14, 512)       2359808   \n",
      "                                                                 \n",
      " conv5_3 (Conv2D)            (None, 14, 14, 512)       2359808   \n",
      "                                                                 \n",
      " pool5 (MaxPooling2D)        (None, 7, 7, 512)         0         \n",
      "                                                                 \n",
      " global_average_pooling2d (G  (None, 512)              0         \n",
      " lobalAveragePooling2D)                                          \n",
      "                                                                 \n",
      "=================================================================\n",
      "Total params: 14,714,688\n",
      "Trainable params: 0\n",
      "Non-trainable params: 14,714,688\n",
      "_________________________________________________________________\n"
     ]
    }
   ],
   "source": [
    "vggface.summary()"
   ]
  },
  {
   "cell_type": "code",
   "execution_count": 19,
   "metadata": {
    "executionInfo": {
     "elapsed": 3,
     "status": "ok",
     "timestamp": 1710826099040,
     "user": {
      "displayName": "이경로",
      "userId": "07872457750052396062"
     },
     "user_tz": -540
    },
    "id": "8hw7SirKloM_"
   },
   "outputs": [],
   "source": [
    "output_layer = vggface.get_layer('pool5').output\n",
    "x = Flatten(name='Flatten')(output_layer)\n",
    "x = Dense(units=512, activation='relu', name='Dense-1')(x)\n",
    "\n",
    "x = Dropout(rate=0.5, name='Dropout')(x)\n",
    "x = Dense(units=256, activation='relu', name='Dense-2')(x)\n",
    "\n",
    "x = Dense(units=1, activation='sigmoid', name='Output')(x)\n",
    "\n",
    "model_gender = Model(inputs=vggface.input, outputs=x)"
   ]
  },
  {
   "cell_type": "code",
   "execution_count": 19,
   "metadata": {
    "executionInfo": {
     "elapsed": 3,
     "status": "ok",
     "timestamp": 1710826099040,
     "user": {
      "displayName": "이경로",
      "userId": "07872457750052396062"
     },
     "user_tz": -540
    },
    "id": "P5xsSc3xk6rd"
   },
   "outputs": [],
   "source": []
  },
  {
   "cell_type": "code",
   "execution_count": 19,
   "metadata": {
    "executionInfo": {
     "elapsed": 3,
     "status": "ok",
     "timestamp": 1710826099040,
     "user": {
      "displayName": "이경로",
      "userId": "07872457750052396062"
     },
     "user_tz": -540
    },
    "id": "D21xPfeNk6ul"
   },
   "outputs": [],
   "source": []
  },
  {
   "cell_type": "code",
   "execution_count": 19,
   "metadata": {
    "executionInfo": {
     "elapsed": 2,
     "status": "ok",
     "timestamp": 1710826099040,
     "user": {
      "displayName": "이경로",
      "userId": "07872457750052396062"
     },
     "user_tz": -540
    },
    "id": "vpmEHdF5k6xj"
   },
   "outputs": [],
   "source": []
  },
  {
   "cell_type": "code",
   "execution_count": 20,
   "metadata": {
    "executionInfo": {
     "elapsed": 28,
     "status": "ok",
     "timestamp": 1710826101118,
     "user": {
      "displayName": "이경로",
      "userId": "07872457750052396062"
     },
     "user_tz": -540
    },
    "id": "a3fSwjF0B28d"
   },
   "outputs": [],
   "source": [
    "# # output = Sequential()\n",
    "# # input = Input([224, 224, 3], dtype=tf.float32, name='Input')\n",
    "# output = Sequential()\n",
    "# output = Conv2D(2, (1, 1), name='Prediction')(model.layers[-4].output)\n",
    "# output = Flatten(name='Flatten')(output)\n",
    "# output = Dense(units=512, activation='relu', name='Dense-1')(output)\n",
    "# output = Dropout(rate=0.5, name='Dropout')(output)\n",
    "# output = Dense(units=1, activation='sigmoid', name='Output')(output)\n",
    "\n",
    "# model_gender = Model(inputs=model.input, outputs=output)"
   ]
  },
  {
   "cell_type": "code",
   "execution_count": 21,
   "metadata": {
    "colab": {
     "base_uri": "https://localhost:8080/"
    },
    "executionInfo": {
     "elapsed": 28,
     "status": "ok",
     "timestamp": 1710826101119,
     "user": {
      "displayName": "이경로",
      "userId": "07872457750052396062"
     },
     "user_tz": -540
    },
    "id": "tELvehFEB24x",
    "outputId": "24419ea3-b10f-4d47-f95a-b89c235f9742"
   },
   "outputs": [
    {
     "name": "stdout",
     "output_type": "stream",
     "text": [
      "Model: \"model\"\n",
      "_________________________________________________________________\n",
      " Layer (type)                Output Shape              Param #   \n",
      "=================================================================\n",
      " input_1 (InputLayer)        [(None, 224, 224, 3)]     0         \n",
      "                                                                 \n",
      " conv1_1 (Conv2D)            (None, 224, 224, 64)      1792      \n",
      "                                                                 \n",
      " conv1_2 (Conv2D)            (None, 224, 224, 64)      36928     \n",
      "                                                                 \n",
      " pool1 (MaxPooling2D)        (None, 112, 112, 64)      0         \n",
      "                                                                 \n",
      " conv2_1 (Conv2D)            (None, 112, 112, 128)     73856     \n",
      "                                                                 \n",
      " conv2_2 (Conv2D)            (None, 112, 112, 128)     147584    \n",
      "                                                                 \n",
      " pool2 (MaxPooling2D)        (None, 56, 56, 128)       0         \n",
      "                                                                 \n",
      " conv3_1 (Conv2D)            (None, 56, 56, 256)       295168    \n",
      "                                                                 \n",
      " conv3_2 (Conv2D)            (None, 56, 56, 256)       590080    \n",
      "                                                                 \n",
      " conv3_3 (Conv2D)            (None, 56, 56, 256)       590080    \n",
      "                                                                 \n",
      " pool3 (MaxPooling2D)        (None, 28, 28, 256)       0         \n",
      "                                                                 \n",
      " conv4_1 (Conv2D)            (None, 28, 28, 512)       1180160   \n",
      "                                                                 \n",
      " conv4_2 (Conv2D)            (None, 28, 28, 512)       2359808   \n",
      "                                                                 \n",
      " conv4_3 (Conv2D)            (None, 28, 28, 512)       2359808   \n",
      "                                                                 \n",
      " pool4 (MaxPooling2D)        (None, 14, 14, 512)       0         \n",
      "                                                                 \n",
      " conv5_1 (Conv2D)            (None, 14, 14, 512)       2359808   \n",
      "                                                                 \n",
      " conv5_2 (Conv2D)            (None, 14, 14, 512)       2359808   \n",
      "                                                                 \n",
      " conv5_3 (Conv2D)            (None, 14, 14, 512)       2359808   \n",
      "                                                                 \n",
      " pool5 (MaxPooling2D)        (None, 7, 7, 512)         0         \n",
      "                                                                 \n",
      " Flatten (Flatten)           (None, 25088)             0         \n",
      "                                                                 \n",
      " Dense-1 (Dense)             (None, 512)               12845568  \n",
      "                                                                 \n",
      " Dropout (Dropout)           (None, 512)               0         \n",
      "                                                                 \n",
      " Dense-2 (Dense)             (None, 256)               131328    \n",
      "                                                                 \n",
      " Output (Dense)              (None, 1)                 257       \n",
      "                                                                 \n",
      "=================================================================\n",
      "Total params: 27,691,841\n",
      "Trainable params: 12,977,153\n",
      "Non-trainable params: 14,714,688\n",
      "_________________________________________________________________\n"
     ]
    }
   ],
   "source": [
    "model_gender.summary()"
   ]
  },
  {
   "cell_type": "code",
   "execution_count": 28,
   "metadata": {
    "executionInfo": {
     "elapsed": 7,
     "status": "ok",
     "timestamp": 1710825782246,
     "user": {
      "displayName": "이경로",
      "userId": "07872457750052396062"
     },
     "user_tz": -540
    },
    "id": "xbZWRlW1BU1j"
   },
   "outputs": [],
   "source": []
  },
  {
   "cell_type": "code",
   "execution_count": 29,
   "metadata": {
    "executionInfo": {
     "elapsed": 6,
     "status": "ok",
     "timestamp": 1710825782247,
     "user": {
      "displayName": "이경로",
      "userId": "07872457750052396062"
     },
     "user_tz": -540
    },
    "id": "y3hbaRykBU8r"
   },
   "outputs": [],
   "source": [
    "# from keras_vggface import utils"
   ]
  },
  {
   "cell_type": "code",
   "execution_count": 26,
   "metadata": {
    "executionInfo": {
     "elapsed": 8,
     "status": "ok",
     "timestamp": 1710827573107,
     "user": {
      "displayName": "이경로",
      "userId": "07872457750052396062"
     },
     "user_tz": -540
    },
    "id": "nsQJx80rujhy"
   },
   "outputs": [],
   "source": [
    "# Hyperparameters.\n",
    "n_epochs = 200\n",
    "batch_size = 32\n",
    "learn_rate = 0.001"
   ]
  },
  {
   "cell_type": "code",
   "execution_count": 27,
   "metadata": {
    "executionInfo": {
     "elapsed": 7,
     "status": "ok",
     "timestamp": 1710827573108,
     "user": {
      "displayName": "이경로",
      "userId": "07872457750052396062"
     },
     "user_tz": -540
    },
    "id": "xncjd7Qhujk5"
   },
   "outputs": [],
   "source": [
    "optimizer = Adam(learning_rate=learn_rate)\n",
    "model_gender.compile(loss='binary_crossentropy', optimizer=optimizer, metrics=['accuracy'])"
   ]
  },
  {
   "cell_type": "code",
   "execution_count": 28,
   "metadata": {
    "executionInfo": {
     "elapsed": 2,
     "status": "ok",
     "timestamp": 1710827574245,
     "user": {
      "displayName": "이경로",
      "userId": "07872457750052396062"
     },
     "user_tz": -540
    },
    "id": "U2zUyDeCEP6Y"
   },
   "outputs": [],
   "source": [
    "early_stop = EarlyStopping(monitor='val_loss', mode='min', verbose=1, patience=5)\n",
    "check_point = ModelCheckpoint(filepath='./Code/CheckPoint/{epoch:02d}_{val_loss:.3f}.h5',\n",
    "                              monitor='val_loss', verbose=1, save_best_only=True, mode='min')"
   ]
  },
  {
   "cell_type": "code",
   "execution_count": 29,
   "metadata": {
    "colab": {
     "base_uri": "https://localhost:8080/"
    },
    "executionInfo": {
     "elapsed": 898965,
     "status": "ok",
     "timestamp": 1710828495331,
     "user": {
      "displayName": "이경로",
      "userId": "07872457750052396062"
     },
     "user_tz": -540
    },
    "id": "4Qnb8CTFFdtO",
    "outputId": "09fda0bd-aa9d-45d5-86f4-4ef1be94ceec"
   },
   "outputs": [
    {
     "name": "stdout",
     "output_type": "stream",
     "text": [
      "Epoch 1/200\n",
      "134/134 [==============================] - ETA: 0s - loss: 6.5029 - accuracy: 0.8929\n",
      "Epoch 1: val_loss improved from inf to 1.41320, saving model to ./Code/CheckPoint/01_1.413.h5\n",
      "134/134 [==============================] - 499s 4s/step - loss: 6.5029 - accuracy: 0.8929 - val_loss: 1.4132 - val_accuracy: 0.9316\n",
      "Epoch 2/200\n",
      "134/134 [==============================] - ETA: 0s - loss: 1.6486 - accuracy: 0.9324\n",
      "Epoch 2: val_loss improved from 1.41320 to 0.45502, saving model to ./Code/CheckPoint/02_0.455.h5\n",
      "134/134 [==============================] - 51s 385ms/step - loss: 1.6486 - accuracy: 0.9324 - val_loss: 0.4550 - val_accuracy: 0.9476\n",
      "Epoch 3/200\n",
      "134/134 [==============================] - ETA: 0s - loss: 0.5658 - accuracy: 0.9274\n",
      "Epoch 3: val_loss improved from 0.45502 to 0.39069, saving model to ./Code/CheckPoint/03_0.391.h5\n",
      "134/134 [==============================] - 26s 194ms/step - loss: 0.5658 - accuracy: 0.9274 - val_loss: 0.3907 - val_accuracy: 0.9187\n",
      "Epoch 4/200\n",
      "134/134 [==============================] - ETA: 0s - loss: 0.4954 - accuracy: 0.9441\n",
      "Epoch 4: val_loss improved from 0.39069 to 0.33203, saving model to ./Code/CheckPoint/04_0.332.h5\n",
      "134/134 [==============================] - 23s 173ms/step - loss: 0.4954 - accuracy: 0.9441 - val_loss: 0.3320 - val_accuracy: 0.9503\n",
      "Epoch 5/200\n",
      "134/134 [==============================] - ETA: 0s - loss: 0.5102 - accuracy: 0.9444\n",
      "Epoch 5: val_loss improved from 0.33203 to 0.23075, saving model to ./Code/CheckPoint/05_0.231.h5\n",
      "134/134 [==============================] - 24s 176ms/step - loss: 0.5102 - accuracy: 0.9444 - val_loss: 0.2307 - val_accuracy: 0.9487\n",
      "Epoch 6/200\n",
      "134/134 [==============================] - ETA: 0s - loss: 0.3224 - accuracy: 0.9450\n",
      "Epoch 6: val_loss improved from 0.23075 to 0.19536, saving model to ./Code/CheckPoint/06_0.195.h5\n",
      "134/134 [==============================] - 22s 166ms/step - loss: 0.3224 - accuracy: 0.9450 - val_loss: 0.1954 - val_accuracy: 0.9524\n",
      "Epoch 7/200\n",
      "134/134 [==============================] - ETA: 0s - loss: 0.2509 - accuracy: 0.9519\n",
      "Epoch 7: val_loss improved from 0.19536 to 0.15893, saving model to ./Code/CheckPoint/07_0.159.h5\n",
      "134/134 [==============================] - 23s 168ms/step - loss: 0.2509 - accuracy: 0.9519 - val_loss: 0.1589 - val_accuracy: 0.9578\n",
      "Epoch 8/200\n",
      "134/134 [==============================] - ETA: 0s - loss: 0.2306 - accuracy: 0.9528\n",
      "Epoch 8: val_loss improved from 0.15893 to 0.15618, saving model to ./Code/CheckPoint/08_0.156.h5\n",
      "134/134 [==============================] - 22s 161ms/step - loss: 0.2306 - accuracy: 0.9528 - val_loss: 0.1562 - val_accuracy: 0.9583\n",
      "Epoch 9/200\n",
      "134/134 [==============================] - ETA: 0s - loss: 0.1886 - accuracy: 0.9582\n",
      "Epoch 9: val_loss did not improve from 0.15618\n",
      "134/134 [==============================] - 21s 158ms/step - loss: 0.1886 - accuracy: 0.9582 - val_loss: 0.1893 - val_accuracy: 0.9545\n",
      "Epoch 10/200\n",
      "134/134 [==============================] - ETA: 0s - loss: 0.2115 - accuracy: 0.9519\n",
      "Epoch 10: val_loss did not improve from 0.15618\n",
      "134/134 [==============================] - 21s 153ms/step - loss: 0.2115 - accuracy: 0.9519 - val_loss: 0.1604 - val_accuracy: 0.9572\n",
      "Epoch 11/200\n",
      "134/134 [==============================] - ETA: 0s - loss: 0.2081 - accuracy: 0.9526\n",
      "Epoch 11: val_loss did not improve from 0.15618\n",
      "134/134 [==============================] - 21s 154ms/step - loss: 0.2081 - accuracy: 0.9526 - val_loss: 0.2008 - val_accuracy: 0.9540\n",
      "Epoch 12/200\n",
      "134/134 [==============================] - ETA: 0s - loss: 0.2189 - accuracy: 0.9526\n",
      "Epoch 12: val_loss did not improve from 0.15618\n",
      "134/134 [==============================] - 20s 147ms/step - loss: 0.2189 - accuracy: 0.9526 - val_loss: 0.2297 - val_accuracy: 0.9556\n",
      "Epoch 13/200\n",
      "134/134 [==============================] - ETA: 0s - loss: 0.2159 - accuracy: 0.9604\n",
      "Epoch 13: val_loss improved from 0.15618 to 0.14077, saving model to ./Code/CheckPoint/13_0.141.h5\n",
      "134/134 [==============================] - 21s 159ms/step - loss: 0.2159 - accuracy: 0.9604 - val_loss: 0.1408 - val_accuracy: 0.9642\n",
      "Epoch 14/200\n",
      "134/134 [==============================] - ETA: 0s - loss: 0.2514 - accuracy: 0.9476\n",
      "Epoch 14: val_loss did not improve from 0.14077\n",
      "134/134 [==============================] - 21s 155ms/step - loss: 0.2514 - accuracy: 0.9476 - val_loss: 0.1764 - val_accuracy: 0.9604\n",
      "Epoch 15/200\n",
      "134/134 [==============================] - ETA: 0s - loss: 0.1992 - accuracy: 0.9486\n",
      "Epoch 15: val_loss did not improve from 0.14077\n",
      "134/134 [==============================] - 21s 159ms/step - loss: 0.1992 - accuracy: 0.9486 - val_loss: 0.1718 - val_accuracy: 0.9578\n",
      "Epoch 16/200\n",
      "134/134 [==============================] - ETA: 0s - loss: 0.2257 - accuracy: 0.9448\n",
      "Epoch 16: val_loss did not improve from 0.14077\n",
      "134/134 [==============================] - 21s 159ms/step - loss: 0.2257 - accuracy: 0.9448 - val_loss: 0.2179 - val_accuracy: 0.9604\n",
      "Epoch 17/200\n",
      "134/134 [==============================] - ETA: 0s - loss: 0.2043 - accuracy: 0.9591\n",
      "Epoch 17: val_loss did not improve from 0.14077\n",
      "134/134 [==============================] - 21s 156ms/step - loss: 0.2043 - accuracy: 0.9591 - val_loss: 0.1760 - val_accuracy: 0.9519\n",
      "Epoch 18/200\n",
      "134/134 [==============================] - ETA: 0s - loss: 0.2465 - accuracy: 0.9408\n",
      "Epoch 18: val_loss did not improve from 0.14077\n",
      "134/134 [==============================] - 21s 160ms/step - loss: 0.2465 - accuracy: 0.9408 - val_loss: 0.1699 - val_accuracy: 0.9620\n",
      "Epoch 18: early stopping\n"
     ]
    }
   ],
   "source": [
    "summary = model_gender.fit_generator(train_gender_generator,\n",
    "                                     steps_per_epoch=4318 // batch_size,\n",
    "                                     epochs=n_epochs,\n",
    "                                     validation_data=test_gender_generator,\n",
    "                                     verbose=1, callbacks=[early_stop, check_point])"
   ]
  },
  {
   "cell_type": "code",
   "execution_count": 30,
   "metadata": {
    "executionInfo": {
     "elapsed": 600,
     "status": "ok",
     "timestamp": 1710828551354,
     "user": {
      "displayName": "이경로",
      "userId": "07872457750052396062"
     },
     "user_tz": -540
    },
    "id": "gNwjdkodLE_c"
   },
   "outputs": [],
   "source": [
    "# summary.history['val_loss']"
   ]
  },
  {
   "cell_type": "code",
   "execution_count": 31,
   "metadata": {
    "colab": {
     "base_uri": "https://localhost:8080/",
     "height": 472
    },
    "executionInfo": {
     "elapsed": 4,
     "status": "ok",
     "timestamp": 1710828552154,
     "user": {
      "displayName": "이경로",
      "userId": "07872457750052396062"
     },
     "user_tz": -540
    },
    "id": "n_GH9qI0Fdp4",
    "outputId": "869d309b-0d9c-47cf-9828-ef1bce532d85"
   },
   "outputs": [
    {
     "data": {
      "image/png": "[encoded data removed]",
      "text/plain": [
       "<Figure size 640x480 with 1 Axes>"
      ]
     },
     "metadata": {},
     "output_type": "display_data"
    }
   ],
   "source": [
    "# 학습 history 출력.\n",
    "n_skip = 0                 # Skip the first few steps.\n",
    "plt.plot(summary.history['accuracy'][n_skip:], c=\"b\")\n",
    "plt.plot(summary.history['val_accuracy'][n_skip:], c=\"g\")\n",
    "plt.title('Training History')\n",
    "plt.ylabel('Accuracy')\n",
    "plt.xlabel('Epoch')\n",
    "plt.legend(['Train', 'Validation'], loc='upper right')\n",
    "plt.show()"
   ]
  },
  {
   "cell_type": "code",
   "execution_count": 34,
   "metadata": {
    "executionInfo": {
     "elapsed": 3,
     "status": "ok",
     "timestamp": 1710828562956,
     "user": {
      "displayName": "이경로",
      "userId": "07872457750052396062"
     },
     "user_tz": -540
    },
    "id": "tDvGMb8fKF0k"
   },
   "outputs": [],
   "source": [
    "# model_gender.evaluate(test_gender_generator, verbose=0)"
   ]
  },
  {
   "cell_type": "code",
   "execution_count": 33,
   "metadata": {
    "colab": {
     "base_uri": "https://localhost:8080/"
    },
    "executionInfo": {
     "elapsed": 5879,
     "status": "ok",
     "timestamp": 1710828562955,
     "user": {
      "displayName": "이경로",
      "userId": "07872457750052396062"
     },
     "user_tz": -540
    },
    "id": "jL23g2zsFdnD",
    "outputId": "8fa9e32c-a05e-470f-8f1e-ea8bf190db84"
   },
   "outputs": [
    {
     "name": "stdout",
     "output_type": "stream",
     "text": [
      "Test Accuracy : 0.962\n"
     ]
    }
   ],
   "source": [
    "# 최종적으로 정확도 계산.\n",
    "ACC = model_gender.evaluate(test_gender_generator, verbose=0)[1]\n",
    "print(\"Test Accuracy : {}\".format(np.round(ACC, 3)))"
   ]
  },
  {
   "cell_type": "code",
   "execution_count": null,
   "metadata": {
    "id": "RBSnp3CIEPyl"
   },
   "outputs": [],
   "source": []
  },
  {
   "cell_type": "code",
   "execution_count": null,
   "metadata": {
    "id": "4wuzVrd_FwOa"
   },
   "outputs": [],
   "source": []
  },
  {
   "cell_type": "code",
   "execution_count": null,
   "metadata": {
    "id": "MUhHhJ5QF9Uu"
   },
   "outputs": [],
   "source": [
    "# def loadImage(filepath):\n",
    "#   test_img = image.load_img(filepath, target_size=(224, 224))\n",
    "#   test_img = image.img_to_array(test_img)\n",
    "#   test_img = np.expand_dims(test_img, axis = 0)\n",
    "#   test_img /= 255\n",
    "#   return test_img"
   ]
  },
  {
   "cell_type": "code",
   "execution_count": 36,
   "metadata": {
    "colab": {
     "base_uri": "https://localhost:8080/"
    },
    "executionInfo": {
     "elapsed": 6016,
     "status": "ok",
     "timestamp": 1710828585102,
     "user": {
      "displayName": "이경로",
      "userId": "07872457750052396062"
     },
     "user_tz": -540
    },
    "id": "7puIktojM12h",
    "outputId": "b3a1298b-8026-4250-85c2-d4bf559892c0"
   },
   "outputs": [
    {
     "name": "stdout",
     "output_type": "stream",
     "text": [
      "[0. 1. 1. ... 1. 1. 0.]\n",
      "(1870, 1)\n"
     ]
    }
   ],
   "source": [
    "prediction = model_gender.predict_generator(test_gender_generator)\n",
    "print(np.round(prediction[:, 0]))\n",
    "print(prediction.shape)"
   ]
  },
  {
   "cell_type": "code",
   "execution_count": 36,
   "metadata": {
    "executionInfo": {
     "elapsed": 769,
     "status": "ok",
     "timestamp": 1710828609079,
     "user": {
      "displayName": "이경로",
      "userId": "07872457750052396062"
     },
     "user_tz": -540
    },
    "id": "xgSr56CoM1wv"
   },
   "outputs": [],
   "source": []
  },
  {
   "cell_type": "code",
   "execution_count": 37,
   "metadata": {
    "executionInfo": {
     "elapsed": 3,
     "status": "ok",
     "timestamp": 1710828609817,
     "user": {
      "displayName": "이경로",
      "userId": "07872457750052396062"
     },
     "user_tz": -540
    },
    "id": "f7QSM-oPGgRC"
   },
   "outputs": [],
   "source": [
    "# from PIL import Image"
   ]
  },
  {
   "cell_type": "code",
   "execution_count": 38,
   "metadata": {
    "executionInfo": {
     "elapsed": 5,
     "status": "ok",
     "timestamp": 1710828611327,
     "user": {
      "displayName": "이경로",
      "userId": "07872457750052396062"
     },
     "user_tz": -540
    },
    "id": "QuKv5k4wGE1Q"
   },
   "outputs": [],
   "source": [
    "# img = Image.open('./Test/Gender/Female/27_1_2_20170116163338293.jpg.chip.jpg')\n",
    "# plt.imshow(img)"
   ]
  },
  {
   "cell_type": "code",
   "execution_count": 39,
   "metadata": {
    "colab": {
     "base_uri": "https://localhost:8080/"
    },
    "executionInfo": {
     "elapsed": 4,
     "status": "ok",
     "timestamp": 1710828611808,
     "user": {
      "displayName": "이경로",
      "userId": "07872457750052396062"
     },
     "user_tz": -540
    },
    "id": "J9LjuTxqRSgJ",
    "outputId": "fcbe30b6-e8b6-48b4-a523-9613096bfa93"
   },
   "outputs": [
    {
     "data": {
      "text/plain": [
       "{'Female': 0, 'Male': 1}"
      ]
     },
     "execution_count": 39,
     "metadata": {},
     "output_type": "execute_result"
    }
   ],
   "source": [
    "class_gender = train_gender_generator.class_indices\n",
    "class_gender"
   ]
  },
  {
   "cell_type": "code",
   "execution_count": 40,
   "metadata": {
    "colab": {
     "base_uri": "https://localhost:8080/",
     "height": 35
    },
    "executionInfo": {
     "elapsed": 583,
     "status": "ok",
     "timestamp": 1710828618860,
     "user": {
      "displayName": "이경로",
      "userId": "07872457750052396062"
     },
     "user_tz": -540
    },
    "id": "BgksOSpTRez4",
    "outputId": "afd7ea53-0315-46c7-f508-af08d22dba44"
   },
   "outputs": [
    {
     "data": {
      "application/vnd.google.colaboratory.intrinsic+json": {
       "type": "string"
      },
      "text/plain": [
       "'./Train/Gender/Female/20_1_0_20170103163040136.jpg.chip.jpg'"
      ]
     },
     "execution_count": 40,
     "metadata": {},
     "output_type": "execute_result"
    }
   ],
   "source": [
    "train_gender_generator.filepaths[0]"
   ]
  },
  {
   "cell_type": "code",
   "execution_count": 41,
   "metadata": {
    "colab": {
     "base_uri": "https://localhost:8080/"
    },
    "executionInfo": {
     "elapsed": 587,
     "status": "ok",
     "timestamp": 1710828622291,
     "user": {
      "displayName": "이경로",
      "userId": "07872457750052396062"
     },
     "user_tz": -540
    },
    "id": "KqCwXEWrW52o",
    "outputId": "890672e3-05c0-4870-e6f0-b7071cfbbdf8"
   },
   "outputs": [
    {
     "data": {
      "text/plain": [
       "array([0.09616406], dtype=float32)"
      ]
     },
     "execution_count": 41,
     "metadata": {},
     "output_type": "execute_result"
    }
   ],
   "source": [
    "prediction[249]"
   ]
  },
  {
   "cell_type": "code",
   "execution_count": 42,
   "metadata": {
    "colab": {
     "base_uri": "https://localhost:8080/"
    },
    "executionInfo": {
     "elapsed": 550,
     "status": "ok",
     "timestamp": 1710828649619,
     "user": {
      "displayName": "이경로",
      "userId": "07872457750052396062"
     },
     "user_tz": -540
    },
    "id": "v92Hm7WIXmRf",
    "outputId": "2eeb58b4-895c-446b-835e-e515a19b1e01"
   },
   "outputs": [
    {
     "data": {
      "text/plain": [
       "{'Female': 0, 'Male': 1}"
      ]
     },
     "execution_count": 42,
     "metadata": {},
     "output_type": "execute_result"
    }
   ],
   "source": [
    "class_gender"
   ]
  },
  {
   "cell_type": "code",
   "execution_count": 43,
   "metadata": {
    "colab": {
     "base_uri": "https://localhost:8080/"
    },
    "executionInfo": {
     "elapsed": 4,
     "status": "ok",
     "timestamp": 1710828650228,
     "user": {
      "displayName": "이경로",
      "userId": "07872457750052396062"
     },
     "user_tz": -540
    },
    "id": "0qQXpao1YXCm",
    "outputId": "a35d9601-bfaa-4136-bddf-0020c35f741e"
   },
   "outputs": [
    {
     "data": {
      "text/plain": [
       "{'Female': 0, 'Male': 1}"
      ]
     },
     "execution_count": 43,
     "metadata": {},
     "output_type": "execute_result"
    }
   ],
   "source": [
    "class_gender"
   ]
  },
  {
   "cell_type": "code",
   "execution_count": 44,
   "metadata": {
    "executionInfo": {
     "elapsed": 8,
     "status": "ok",
     "timestamp": 1710828651926,
     "user": {
      "displayName": "이경로",
      "userId": "07872457750052396062"
     },
     "user_tz": -540
    },
    "id": "-QqzkimrYgSx"
   },
   "outputs": [],
   "source": [
    "class_gender_inv = {v:k for k,v in class_gender.items()}"
   ]
  },
  {
   "cell_type": "code",
   "execution_count": 46,
   "metadata": {
    "colab": {
     "base_uri": "https://localhost:8080/"
    },
    "executionInfo": {
     "elapsed": 4,
     "status": "ok",
     "timestamp": 1710828656785,
     "user": {
      "displayName": "이경로",
      "userId": "07872457750052396062"
     },
     "user_tz": -540
    },
    "id": "0IYEGHynYnYN",
    "outputId": "96d5ddc9-c517-4d2b-f237-1e6738966112"
   },
   "outputs": [
    {
     "data": {
      "text/plain": [
       "{0: 'Female', 1: 'Male'}"
      ]
     },
     "execution_count": 46,
     "metadata": {},
     "output_type": "execute_result"
    }
   ],
   "source": [
    "class_gender_inv"
   ]
  },
  {
   "cell_type": "code",
   "execution_count": 64,
   "metadata": {
    "colab": {
     "base_uri": "https://localhost:8080/",
     "height": 424
    },
    "executionInfo": {
     "elapsed": 1190,
     "status": "ok",
     "timestamp": 1710829486724,
     "user": {
      "displayName": "이경로",
      "userId": "07872457750052396062"
     },
     "user_tz": -540
    },
    "id": "Yeo6Qd6pYJB_",
    "outputId": "0482fc39-b581-4a10-c345-d35c6fd97130"
   },
   "outputs": [
    {
     "data": {
      "application/vnd.google.colaboratory.intrinsic+json": {
       "summary": "{\n  \"name\": \"df\",\n  \"rows\": 23705,\n  \"fields\": [\n    {\n      \"column\": \"file_name\",\n      \"properties\": {\n        \"dtype\": \"string\",\n        \"num_unique_values\": 23705,\n        \"samples\": [\n          \"26_0_2_20170116182347867.jpg.chip.jpg\",\n          \"26_1_3_20170117154857092.jpg.chip.jpg\",\n          \"1_0_0_20161219212921070.jpg.chip.jpg\"\n        ],\n        \"semantic_type\": \"\",\n        \"description\": \"\"\n      }\n    },\n    {\n      \"column\": \"age\",\n      \"properties\": {\n        \"dtype\": \"number\",\n        \"std\": 19,\n        \"min\": 1,\n        \"max\": 116,\n        \"num_unique_values\": 104,\n        \"samples\": [\n          70,\n          35,\n          37\n        ],\n        \"semantic_type\": \"\",\n        \"description\": \"\"\n      }\n    },\n    {\n      \"column\": \"gender\",\n      \"properties\": {\n        \"dtype\": \"number\",\n        \"std\": 0,\n        \"min\": 0,\n        \"max\": 1,\n        \"num_unique_values\": 2,\n        \"samples\": [\n          1,\n          0\n        ],\n        \"semantic_type\": \"\",\n        \"description\": \"\"\n      }\n    },\n    {\n      \"column\": \"race\",\n      \"properties\": {\n        \"dtype\": \"number\",\n        \"std\": 1,\n        \"min\": 0,\n        \"max\": 4,\n        \"num_unique_values\": 5,\n        \"samples\": [\n          2,\n          3\n        ],\n        \"semantic_type\": \"\",\n        \"description\": \"\"\n      }\n    }\n  ]\n}",
       "type": "dataframe",
       "variable_name": "df"
      },
      "text/html": [
       "\n",
       "  <div id=\"df-fe1cf917-33d6-4529-a3fc-dd9d6fdcdf1c\" class=\"colab-df-container\">\n",
       "    <div>\n",
       "<style scoped>\n",
       "    .dataframe tbody tr th:only-of-type {\n",
       "        vertical-align: middle;\n",
       "    }\n",
       "\n",
       "    .dataframe tbody tr th {\n",
       "        vertical-align: top;\n",
       "    }\n",
       "\n",
       "    .dataframe thead th {\n",
       "        text-align: right;\n",
       "    }\n",
       "</style>\n",
       "<table border=\"1\" class=\"dataframe\">\n",
       "  <thead>\n",
       "    <tr style=\"text-align: right;\">\n",
       "      <th></th>\n",
       "      <th>file_name</th>\n",
       "      <th>age</th>\n",
       "      <th>gender</th>\n",
       "      <th>race</th>\n",
       "    </tr>\n",
       "  </thead>\n",
       "  <tbody>\n",
       "    <tr>\n",
       "      <th>0</th>\n",
       "      <td>8_0_0_20170110222913531.jpg.chip.jpg</td>\n",
       "      <td>8</td>\n",
       "      <td>0</td>\n",
       "      <td>0</td>\n",
       "    </tr>\n",
       "    <tr>\n",
       "      <th>1</th>\n",
       "      <td>86_1_0_20170110181934936.jpg.chip.jpg</td>\n",
       "      <td>86</td>\n",
       "      <td>1</td>\n",
       "      <td>0</td>\n",
       "    </tr>\n",
       "    <tr>\n",
       "      <th>2</th>\n",
       "      <td>76_1_0_20170110180142396.jpg.chip.jpg</td>\n",
       "      <td>76</td>\n",
       "      <td>1</td>\n",
       "      <td>0</td>\n",
       "    </tr>\n",
       "    <tr>\n",
       "      <th>3</th>\n",
       "      <td>80_1_0_20170110180523385.jpg.chip.jpg</td>\n",
       "      <td>80</td>\n",
       "      <td>1</td>\n",
       "      <td>0</td>\n",
       "    </tr>\n",
       "    <tr>\n",
       "      <th>4</th>\n",
       "      <td>84_1_0_20170120222457967.jpg.chip.jpg</td>\n",
       "      <td>84</td>\n",
       "      <td>1</td>\n",
       "      <td>0</td>\n",
       "    </tr>\n",
       "    <tr>\n",
       "      <th>...</th>\n",
       "      <td>...</td>\n",
       "      <td>...</td>\n",
       "      <td>...</td>\n",
       "      <td>...</td>\n",
       "    </tr>\n",
       "    <tr>\n",
       "      <th>23700</th>\n",
       "      <td>15_0_0_20170103201316167.jpg.chip.jpg</td>\n",
       "      <td>15</td>\n",
       "      <td>0</td>\n",
       "      <td>0</td>\n",
       "    </tr>\n",
       "    <tr>\n",
       "      <th>23701</th>\n",
       "      <td>14_1_0_20170109214428765.jpg.chip.jpg</td>\n",
       "      <td>14</td>\n",
       "      <td>1</td>\n",
       "      <td>0</td>\n",
       "    </tr>\n",
       "    <tr>\n",
       "      <th>23702</th>\n",
       "      <td>14_1_0_20170109214707410.jpg.chip.jpg</td>\n",
       "      <td>14</td>\n",
       "      <td>1</td>\n",
       "      <td>0</td>\n",
       "    </tr>\n",
       "    <tr>\n",
       "      <th>23703</th>\n",
       "      <td>15_1_4_20170103201201509.jpg.chip.jpg</td>\n",
       "      <td>15</td>\n",
       "      <td>1</td>\n",
       "      <td>4</td>\n",
       "    </tr>\n",
       "    <tr>\n",
       "      <th>23704</th>\n",
       "      <td>15_1_0_20170104013418578.jpg.chip.jpg</td>\n",
       "      <td>15</td>\n",
       "      <td>1</td>\n",
       "      <td>0</td>\n",
       "    </tr>\n",
       "  </tbody>\n",
       "</table>\n",
       "<p>23705 rows × 4 columns</p>\n",
       "</div>\n",
       "    <div class=\"colab-df-buttons\">\n",
       "\n",
       "  <div class=\"colab-df-container\">\n",
       "    <button class=\"colab-df-convert\" onclick=\"convertToInteractive('df-fe1cf917-33d6-4529-a3fc-dd9d6fdcdf1c')\"\n",
       "            title=\"Convert this dataframe to an interactive table.\"\n",
       "            style=\"display:none;\">\n",
       "\n",
       "  <svg xmlns=\"http://www.w3.org/2000/svg\" height=\"24px\" viewBox=\"0 -960 960 960\">\n",
       "    <path d=\"M120-120v-720h720v720H120Zm60-500h600v-160H180v160Zm220 220h160v-160H400v160Zm0 220h160v-160H400v160ZM180-400h160v-160H180v160Zm440 0h160v-160H620v160ZM180-180h160v-160H180v160Zm440 0h160v-160H620v160Z\"/>\n",
       "  </svg>\n",
       "    </button>\n",
       "\n",
       "  <style>\n",
       "    .colab-df-container {\n",
       "      display:flex;\n",
       "      gap: 12px;\n",
       "    }\n",
       "\n",
       "    .colab-df-convert {\n",
       "      background-color: #E8F0FE;\n",
       "      border: none;\n",
       "      border-radius: 50%;\n",
       "      cursor: pointer;\n",
       "      display: none;\n",
       "      fill: #1967D2;\n",
       "      height: 32px;\n",
       "      padding: 0 0 0 0;\n",
       "      width: 32px;\n",
       "    }\n",
       "\n",
       "    .colab-df-convert:hover {\n",
       "      background-color: #E2EBFA;\n",
       "      box-shadow: 0px 1px 2px rgba(60, 64, 67, 0.3), 0px 1px 3px 1px rgba(60, 64, 67, 0.15);\n",
       "      fill: #174EA6;\n",
       "    }\n",
       "\n",
       "    .colab-df-buttons div {\n",
       "      margin-bottom: 4px;\n",
       "    }\n",
       "\n",
       "    [theme=dark] .colab-df-convert {\n",
       "      background-color: #3B4455;\n",
       "      fill: #D2E3FC;\n",
       "    }\n",
       "\n",
       "    [theme=dark] .colab-df-convert:hover {\n",
       "      background-color: #434B5C;\n",
       "      box-shadow: 0px 1px 3px 1px rgba(0, 0, 0, 0.15);\n",
       "      filter: drop-shadow(0px 1px 2px rgba(0, 0, 0, 0.3));\n",
       "      fill: #FFFFFF;\n",
       "    }\n",
       "  </style>\n",
       "\n",
       "    <script>\n",
       "      const buttonEl =\n",
       "        document.querySelector('#df-fe1cf917-33d6-4529-a3fc-dd9d6fdcdf1c button.colab-df-convert');\n",
       "      buttonEl.style.display =\n",
       "        google.colab.kernel.accessAllowed ? 'block' : 'none';\n",
       "\n",
       "      async function convertToInteractive(key) {\n",
       "        const element = document.querySelector('#df-fe1cf917-33d6-4529-a3fc-dd9d6fdcdf1c');\n",
       "        const dataTable =\n",
       "          await google.colab.kernel.invokeFunction('convertToInteractive',\n",
       "                                                    [key], {});\n",
       "        if (!dataTable) return;\n",
       "\n",
       "        const docLinkHtml = 'Like what you see? Visit the ' +\n",
       "          '<a target=\"_blank\" href=https://colab.research.google.com/notebooks/data_table.ipynb>data table notebook</a>'\n",
       "          + ' to learn more about interactive tables.';\n",
       "        element.innerHTML = '';\n",
       "        dataTable['output_type'] = 'display_data';\n",
       "        await google.colab.output.renderOutput(dataTable, element);\n",
       "        const docLink = document.createElement('div');\n",
       "        docLink.innerHTML = docLinkHtml;\n",
       "        element.appendChild(docLink);\n",
       "      }\n",
       "    </script>\n",
       "  </div>\n",
       "\n",
       "\n",
       "<div id=\"df-584d405b-a406-40b5-b339-36ea051b6077\">\n",
       "  <button class=\"colab-df-quickchart\" onclick=\"quickchart('df-584d405b-a406-40b5-b339-36ea051b6077')\"\n",
       "            title=\"Suggest charts\"\n",
       "            style=\"display:none;\">\n",
       "\n",
       "<svg xmlns=\"http://www.w3.org/2000/svg\" height=\"24px\"viewBox=\"0 0 24 24\"\n",
       "     width=\"24px\">\n",
       "    <g>\n",
       "        <path d=\"M19 3H5c-1.1 0-2 .9-2 2v14c0 1.1.9 2 2 2h14c1.1 0 2-.9 2-2V5c0-1.1-.9-2-2-2zM9 17H7v-7h2v7zm4 0h-2V7h2v10zm4 0h-2v-4h2v4z\"/>\n",
       "    </g>\n",
       "</svg>\n",
       "  </button>\n",
       "\n",
       "<style>\n",
       "  .colab-df-quickchart {\n",
       "      --bg-color: #E8F0FE;\n",
       "      --fill-color: #1967D2;\n",
       "      --hover-bg-color: #E2EBFA;\n",
       "      --hover-fill-color: #174EA6;\n",
       "      --disabled-fill-color: #AAA;\n",
       "      --disabled-bg-color: #DDD;\n",
       "  }\n",
       "\n",
       "  [theme=dark] .colab-df-quickchart {\n",
       "      --bg-color: #3B4455;\n",
       "      --fill-color: #D2E3FC;\n",
       "      --hover-bg-color: #434B5C;\n",
       "      --hover-fill-color: #FFFFFF;\n",
       "      --disabled-bg-color: #3B4455;\n",
       "      --disabled-fill-color: #666;\n",
       "  }\n",
       "\n",
       "  .colab-df-quickchart {\n",
       "    background-color: var(--bg-color);\n",
       "    border: none;\n",
       "    border-radius: 50%;\n",
       "    cursor: pointer;\n",
       "    display: none;\n",
       "    fill: var(--fill-color);\n",
       "    height: 32px;\n",
       "    padding: 0;\n",
       "    width: 32px;\n",
       "  }\n",
       "\n",
       "  .colab-df-quickchart:hover {\n",
       "    background-color: var(--hover-bg-color);\n",
       "    box-shadow: 0 1px 2px rgba(60, 64, 67, 0.3), 0 1px 3px 1px rgba(60, 64, 67, 0.15);\n",
       "    fill: var(--button-hover-fill-color);\n",
       "  }\n",
       "\n",
       "  .colab-df-quickchart-complete:disabled,\n",
       "  .colab-df-quickchart-complete:disabled:hover {\n",
       "    background-color: var(--disabled-bg-color);\n",
       "    fill: var(--disabled-fill-color);\n",
       "    box-shadow: none;\n",
       "  }\n",
       "\n",
       "  .colab-df-spinner {\n",
       "    border: 2px solid var(--fill-color);\n",
       "    border-color: transparent;\n",
       "    border-bottom-color: var(--fill-color);\n",
       "    animation:\n",
       "      spin 1s steps(1) infinite;\n",
       "  }\n",
       "\n",
       "  @keyframes spin {\n",
       "    0% {\n",
       "      border-color: transparent;\n",
       "      border-bottom-color: var(--fill-color);\n",
       "      border-left-color: var(--fill-color);\n",
       "    }\n",
       "    20% {\n",
       "      border-color: transparent;\n",
       "      border-left-color: var(--fill-color);\n",
       "      border-top-color: var(--fill-color);\n",
       "    }\n",
       "    30% {\n",
       "      border-color: transparent;\n",
       "      border-left-color: var(--fill-color);\n",
       "      border-top-color: var(--fill-color);\n",
       "      border-right-color: var(--fill-color);\n",
       "    }\n",
       "    40% {\n",
       "      border-color: transparent;\n",
       "      border-right-color: var(--fill-color);\n",
       "      border-top-color: var(--fill-color);\n",
       "    }\n",
       "    60% {\n",
       "      border-color: transparent;\n",
       "      border-right-color: var(--fill-color);\n",
       "    }\n",
       "    80% {\n",
       "      border-color: transparent;\n",
       "      border-right-color: var(--fill-color);\n",
       "      border-bottom-color: var(--fill-color);\n",
       "    }\n",
       "    90% {\n",
       "      border-color: transparent;\n",
       "      border-bottom-color: var(--fill-color);\n",
       "    }\n",
       "  }\n",
       "</style>\n",
       "\n",
       "  <script>\n",
       "    async function quickchart(key) {\n",
       "      const quickchartButtonEl =\n",
       "        document.querySelector('#' + key + ' button');\n",
       "      quickchartButtonEl.disabled = true;  // To prevent multiple clicks.\n",
       "      quickchartButtonEl.classList.add('colab-df-spinner');\n",
       "      try {\n",
       "        const charts = await google.colab.kernel.invokeFunction(\n",
       "            'suggestCharts', [key], {});\n",
       "      } catch (error) {\n",
       "        console.error('Error during call to suggestCharts:', error);\n",
       "      }\n",
       "      quickchartButtonEl.classList.remove('colab-df-spinner');\n",
       "      quickchartButtonEl.classList.add('colab-df-quickchart-complete');\n",
       "    }\n",
       "    (() => {\n",
       "      let quickchartButtonEl =\n",
       "        document.querySelector('#df-584d405b-a406-40b5-b339-36ea051b6077 button');\n",
       "      quickchartButtonEl.style.display =\n",
       "        google.colab.kernel.accessAllowed ? 'block' : 'none';\n",
       "    })();\n",
       "  </script>\n",
       "</div>\n",
       "\n",
       "  <div id=\"id_0181ddcd-25dd-4153-9cc4-bafc58387675\">\n",
       "    <style>\n",
       "      .colab-df-generate {\n",
       "        background-color: #E8F0FE;\n",
       "        border: none;\n",
       "        border-radius: 50%;\n",
       "        cursor: pointer;\n",
       "        display: none;\n",
       "        fill: #1967D2;\n",
       "        height: 32px;\n",
       "        padding: 0 0 0 0;\n",
       "        width: 32px;\n",
       "      }\n",
       "\n",
       "      .colab-df-generate:hover {\n",
       "        background-color: #E2EBFA;\n",
       "        box-shadow: 0px 1px 2px rgba(60, 64, 67, 0.3), 0px 1px 3px 1px rgba(60, 64, 67, 0.15);\n",
       "        fill: #174EA6;\n",
       "      }\n",
       "\n",
       "      [theme=dark] .colab-df-generate {\n",
       "        background-color: #3B4455;\n",
       "        fill: #D2E3FC;\n",
       "      }\n",
       "\n",
       "      [theme=dark] .colab-df-generate:hover {\n",
       "        background-color: #434B5C;\n",
       "        box-shadow: 0px 1px 3px 1px rgba(0, 0, 0, 0.15);\n",
       "        filter: drop-shadow(0px 1px 2px rgba(0, 0, 0, 0.3));\n",
       "        fill: #FFFFFF;\n",
       "      }\n",
       "    </style>\n",
       "    <button class=\"colab-df-generate\" onclick=\"generateWithVariable('df')\"\n",
       "            title=\"Generate code using this dataframe.\"\n",
       "            style=\"display:none;\">\n",
       "\n",
       "  <svg xmlns=\"http://www.w3.org/2000/svg\" height=\"24px\"viewBox=\"0 0 24 24\"\n",
       "       width=\"24px\">\n",
       "    <path d=\"M7,19H8.4L18.45,9,17,7.55,7,17.6ZM5,21V16.75L18.45,3.32a2,2,0,0,1,2.83,0l1.4,1.43a1.91,1.91,0,0,1,.58,1.4,1.91,1.91,0,0,1-.58,1.4L9.25,21ZM18.45,9,17,7.55Zm-12,3A5.31,5.31,0,0,0,4.9,8.1,5.31,5.31,0,0,0,1,6.5,5.31,5.31,0,0,0,4.9,4.9,5.31,5.31,0,0,0,6.5,1,5.31,5.31,0,0,0,8.1,4.9,5.31,5.31,0,0,0,12,6.5,5.46,5.46,0,0,0,6.5,12Z\"/>\n",
       "  </svg>\n",
       "    </button>\n",
       "    <script>\n",
       "      (() => {\n",
       "      const buttonEl =\n",
       "        document.querySelector('#id_0181ddcd-25dd-4153-9cc4-bafc58387675 button.colab-df-generate');\n",
       "      buttonEl.style.display =\n",
       "        google.colab.kernel.accessAllowed ? 'block' : 'none';\n",
       "\n",
       "      buttonEl.onclick = () => {\n",
       "        google.colab.notebook.generateWithVariable('df');\n",
       "      }\n",
       "      })();\n",
       "    </script>\n",
       "  </div>\n",
       "\n",
       "    </div>\n",
       "  </div>\n"
      ],
      "text/plain": [
       "                                   file_name  age  gender  race\n",
       "0       8_0_0_20170110222913531.jpg.chip.jpg    8       0     0\n",
       "1      86_1_0_20170110181934936.jpg.chip.jpg   86       1     0\n",
       "2      76_1_0_20170110180142396.jpg.chip.jpg   76       1     0\n",
       "3      80_1_0_20170110180523385.jpg.chip.jpg   80       1     0\n",
       "4      84_1_0_20170120222457967.jpg.chip.jpg   84       1     0\n",
       "...                                      ...  ...     ...   ...\n",
       "23700  15_0_0_20170103201316167.jpg.chip.jpg   15       0     0\n",
       "23701  14_1_0_20170109214428765.jpg.chip.jpg   14       1     0\n",
       "23702  14_1_0_20170109214707410.jpg.chip.jpg   14       1     0\n",
       "23703  15_1_4_20170103201201509.jpg.chip.jpg   15       1     4\n",
       "23704  15_1_0_20170104013418578.jpg.chip.jpg   15       1     0\n",
       "\n",
       "[23705 rows x 4 columns]"
      ]
     },
     "execution_count": 64,
     "metadata": {},
     "output_type": "execute_result"
    }
   ],
   "source": [
    "df = pd.read_csv('./data01.csv')\n",
    "df"
   ]
  },
  {
   "cell_type": "code",
   "execution_count": 65,
   "metadata": {
    "colab": {
     "base_uri": "https://localhost:8080/",
     "height": 424
    },
    "executionInfo": {
     "elapsed": 580,
     "status": "ok",
     "timestamp": 1710829510540,
     "user": {
      "displayName": "이경로",
      "userId": "07872457750052396062"
     },
     "user_tz": -540
    },
    "id": "2Yly2jNjYlUy",
    "outputId": "34b2a819-d227-4355-afe7-da03437ff660"
   },
   "outputs": [
    {
     "data": {
      "application/vnd.google.colaboratory.intrinsic+json": {
       "summary": "{\n  \"name\": \"df_20\",\n  \"rows\": 7344,\n  \"fields\": [\n    {\n      \"column\": \"file_name\",\n      \"properties\": {\n        \"dtype\": \"string\",\n        \"num_unique_values\": 7344,\n        \"samples\": [\n          \"24_0_4_20161219192105922.jpg.chip.jpg\",\n          \"23_1_2_20170116173018704.jpg.chip.jpg\",\n          \"28_0_1_20170113155301388.jpg.chip.jpg\"\n        ],\n        \"semantic_type\": \"\",\n        \"description\": \"\"\n      }\n    },\n    {\n      \"column\": \"age\",\n      \"properties\": {\n        \"dtype\": \"number\",\n        \"std\": 2,\n        \"min\": 20,\n        \"max\": 29,\n        \"num_unique_values\": 10,\n        \"samples\": [\n          23,\n          28,\n          24\n        ],\n        \"semantic_type\": \"\",\n        \"description\": \"\"\n      }\n    },\n    {\n      \"column\": \"gender\",\n      \"properties\": {\n        \"dtype\": \"number\",\n        \"std\": 0,\n        \"min\": 0,\n        \"max\": 1,\n        \"num_unique_values\": 2,\n        \"samples\": [\n          0,\n          1\n        ],\n        \"semantic_type\": \"\",\n        \"description\": \"\"\n      }\n    },\n    {\n      \"column\": \"race\",\n      \"properties\": {\n        \"dtype\": \"number\",\n        \"std\": 1,\n        \"min\": 0,\n        \"max\": 4,\n        \"num_unique_values\": 5,\n        \"samples\": [\n          1,\n          4\n        ],\n        \"semantic_type\": \"\",\n        \"description\": \"\"\n      }\n    }\n  ]\n}",
       "type": "dataframe",
       "variable_name": "df_20"
      },
      "text/html": [
       "\n",
       "  <div id=\"df-e717d94e-65ef-416b-bf47-8a7d85422960\" class=\"colab-df-container\">\n",
       "    <div>\n",
       "<style scoped>\n",
       "    .dataframe tbody tr th:only-of-type {\n",
       "        vertical-align: middle;\n",
       "    }\n",
       "\n",
       "    .dataframe tbody tr th {\n",
       "        vertical-align: top;\n",
       "    }\n",
       "\n",
       "    .dataframe thead th {\n",
       "        text-align: right;\n",
       "    }\n",
       "</style>\n",
       "<table border=\"1\" class=\"dataframe\">\n",
       "  <thead>\n",
       "    <tr style=\"text-align: right;\">\n",
       "      <th></th>\n",
       "      <th>file_name</th>\n",
       "      <th>age</th>\n",
       "      <th>gender</th>\n",
       "      <th>race</th>\n",
       "    </tr>\n",
       "  </thead>\n",
       "  <tbody>\n",
       "    <tr>\n",
       "      <th>0</th>\n",
       "      <td>29_1_2_20170116172543850.jpg.chip.jpg</td>\n",
       "      <td>29</td>\n",
       "      <td>1</td>\n",
       "      <td>2</td>\n",
       "    </tr>\n",
       "    <tr>\n",
       "      <th>1</th>\n",
       "      <td>29_1_1_20170112205844564.jpg.chip.jpg</td>\n",
       "      <td>29</td>\n",
       "      <td>1</td>\n",
       "      <td>1</td>\n",
       "    </tr>\n",
       "    <tr>\n",
       "      <th>2</th>\n",
       "      <td>29_1_2_20170116175313289.jpg.chip.jpg</td>\n",
       "      <td>29</td>\n",
       "      <td>1</td>\n",
       "      <td>2</td>\n",
       "    </tr>\n",
       "    <tr>\n",
       "      <th>3</th>\n",
       "      <td>29_0_1_20170117104547721.jpg.chip.jpg</td>\n",
       "      <td>29</td>\n",
       "      <td>0</td>\n",
       "      <td>1</td>\n",
       "    </tr>\n",
       "    <tr>\n",
       "      <th>4</th>\n",
       "      <td>29_0_3_20170117022426014.jpg.chip.jpg</td>\n",
       "      <td>29</td>\n",
       "      <td>0</td>\n",
       "      <td>3</td>\n",
       "    </tr>\n",
       "    <tr>\n",
       "      <th>...</th>\n",
       "      <td>...</td>\n",
       "      <td>...</td>\n",
       "      <td>...</td>\n",
       "      <td>...</td>\n",
       "    </tr>\n",
       "    <tr>\n",
       "      <th>7339</th>\n",
       "      <td>20_0_3_20170104214325910.jpg.chip.jpg</td>\n",
       "      <td>20</td>\n",
       "      <td>0</td>\n",
       "      <td>3</td>\n",
       "    </tr>\n",
       "    <tr>\n",
       "      <th>7340</th>\n",
       "      <td>20_0_3_20170119151303902.jpg.chip.jpg</td>\n",
       "      <td>20</td>\n",
       "      <td>0</td>\n",
       "      <td>3</td>\n",
       "    </tr>\n",
       "    <tr>\n",
       "      <th>7341</th>\n",
       "      <td>20_0_1_20170113132622368.jpg.chip.jpg</td>\n",
       "      <td>20</td>\n",
       "      <td>0</td>\n",
       "      <td>1</td>\n",
       "    </tr>\n",
       "    <tr>\n",
       "      <th>7342</th>\n",
       "      <td>20_0_0_20170113184350758.jpg.chip.jpg</td>\n",
       "      <td>20</td>\n",
       "      <td>0</td>\n",
       "      <td>0</td>\n",
       "    </tr>\n",
       "    <tr>\n",
       "      <th>7343</th>\n",
       "      <td>20_0_1_20170113133103776.jpg.chip.jpg</td>\n",
       "      <td>20</td>\n",
       "      <td>0</td>\n",
       "      <td>1</td>\n",
       "    </tr>\n",
       "  </tbody>\n",
       "</table>\n",
       "<p>7344 rows × 4 columns</p>\n",
       "</div>\n",
       "    <div class=\"colab-df-buttons\">\n",
       "\n",
       "  <div class=\"colab-df-container\">\n",
       "    <button class=\"colab-df-convert\" onclick=\"convertToInteractive('df-e717d94e-65ef-416b-bf47-8a7d85422960')\"\n",
       "            title=\"Convert this dataframe to an interactive table.\"\n",
       "            style=\"display:none;\">\n",
       "\n",
       "  <svg xmlns=\"http://www.w3.org/2000/svg\" height=\"24px\" viewBox=\"0 -960 960 960\">\n",
       "    <path d=\"M120-120v-720h720v720H120Zm60-500h600v-160H180v160Zm220 220h160v-160H400v160Zm0 220h160v-160H400v160ZM180-400h160v-160H180v160Zm440 0h160v-160H620v160ZM180-180h160v-160H180v160Zm440 0h160v-160H620v160Z\"/>\n",
       "  </svg>\n",
       "    </button>\n",
       "\n",
       "  <style>\n",
       "    .colab-df-container {\n",
       "      display:flex;\n",
       "      gap: 12px;\n",
       "    }\n",
       "\n",
       "    .colab-df-convert {\n",
       "      background-color: #E8F0FE;\n",
       "      border: none;\n",
       "      border-radius: 50%;\n",
       "      cursor: pointer;\n",
       "      display: none;\n",
       "      fill: #1967D2;\n",
       "      height: 32px;\n",
       "      padding: 0 0 0 0;\n",
       "      width: 32px;\n",
       "    }\n",
       "\n",
       "    .colab-df-convert:hover {\n",
       "      background-color: #E2EBFA;\n",
       "      box-shadow: 0px 1px 2px rgba(60, 64, 67, 0.3), 0px 1px 3px 1px rgba(60, 64, 67, 0.15);\n",
       "      fill: #174EA6;\n",
       "    }\n",
       "\n",
       "    .colab-df-buttons div {\n",
       "      margin-bottom: 4px;\n",
       "    }\n",
       "\n",
       "    [theme=dark] .colab-df-convert {\n",
       "      background-color: #3B4455;\n",
       "      fill: #D2E3FC;\n",
       "    }\n",
       "\n",
       "    [theme=dark] .colab-df-convert:hover {\n",
       "      background-color: #434B5C;\n",
       "      box-shadow: 0px 1px 3px 1px rgba(0, 0, 0, 0.15);\n",
       "      filter: drop-shadow(0px 1px 2px rgba(0, 0, 0, 0.3));\n",
       "      fill: #FFFFFF;\n",
       "    }\n",
       "  </style>\n",
       "\n",
       "    <script>\n",
       "      const buttonEl =\n",
       "        document.querySelector('#df-e717d94e-65ef-416b-bf47-8a7d85422960 button.colab-df-convert');\n",
       "      buttonEl.style.display =\n",
       "        google.colab.kernel.accessAllowed ? 'block' : 'none';\n",
       "\n",
       "      async function convertToInteractive(key) {\n",
       "        const element = document.querySelector('#df-e717d94e-65ef-416b-bf47-8a7d85422960');\n",
       "        const dataTable =\n",
       "          await google.colab.kernel.invokeFunction('convertToInteractive',\n",
       "                                                    [key], {});\n",
       "        if (!dataTable) return;\n",
       "\n",
       "        const docLinkHtml = 'Like what you see? Visit the ' +\n",
       "          '<a target=\"_blank\" href=https://colab.research.google.com/notebooks/data_table.ipynb>data table notebook</a>'\n",
       "          + ' to learn more about interactive tables.';\n",
       "        element.innerHTML = '';\n",
       "        dataTable['output_type'] = 'display_data';\n",
       "        await google.colab.output.renderOutput(dataTable, element);\n",
       "        const docLink = document.createElement('div');\n",
       "        docLink.innerHTML = docLinkHtml;\n",
       "        element.appendChild(docLink);\n",
       "      }\n",
       "    </script>\n",
       "  </div>\n",
       "\n",
       "\n",
       "<div id=\"df-794900ac-5385-43a7-a41d-3f766da754e5\">\n",
       "  <button class=\"colab-df-quickchart\" onclick=\"quickchart('df-794900ac-5385-43a7-a41d-3f766da754e5')\"\n",
       "            title=\"Suggest charts\"\n",
       "            style=\"display:none;\">\n",
       "\n",
       "<svg xmlns=\"http://www.w3.org/2000/svg\" height=\"24px\"viewBox=\"0 0 24 24\"\n",
       "     width=\"24px\">\n",
       "    <g>\n",
       "        <path d=\"M19 3H5c-1.1 0-2 .9-2 2v14c0 1.1.9 2 2 2h14c1.1 0 2-.9 2-2V5c0-1.1-.9-2-2-2zM9 17H7v-7h2v7zm4 0h-2V7h2v10zm4 0h-2v-4h2v4z\"/>\n",
       "    </g>\n",
       "</svg>\n",
       "  </button>\n",
       "\n",
       "<style>\n",
       "  .colab-df-quickchart {\n",
       "      --bg-color: #E8F0FE;\n",
       "      --fill-color: #1967D2;\n",
       "      --hover-bg-color: #E2EBFA;\n",
       "      --hover-fill-color: #174EA6;\n",
       "      --disabled-fill-color: #AAA;\n",
       "      --disabled-bg-color: #DDD;\n",
       "  }\n",
       "\n",
       "  [theme=dark] .colab-df-quickchart {\n",
       "      --bg-color: #3B4455;\n",
       "      --fill-color: #D2E3FC;\n",
       "      --hover-bg-color: #434B5C;\n",
       "      --hover-fill-color: #FFFFFF;\n",
       "      --disabled-bg-color: #3B4455;\n",
       "      --disabled-fill-color: #666;\n",
       "  }\n",
       "\n",
       "  .colab-df-quickchart {\n",
       "    background-color: var(--bg-color);\n",
       "    border: none;\n",
       "    border-radius: 50%;\n",
       "    cursor: pointer;\n",
       "    display: none;\n",
       "    fill: var(--fill-color);\n",
       "    height: 32px;\n",
       "    padding: 0;\n",
       "    width: 32px;\n",
       "  }\n",
       "\n",
       "  .colab-df-quickchart:hover {\n",
       "    background-color: var(--hover-bg-color);\n",
       "    box-shadow: 0 1px 2px rgba(60, 64, 67, 0.3), 0 1px 3px 1px rgba(60, 64, 67, 0.15);\n",
       "    fill: var(--button-hover-fill-color);\n",
       "  }\n",
       "\n",
       "  .colab-df-quickchart-complete:disabled,\n",
       "  .colab-df-quickchart-complete:disabled:hover {\n",
       "    background-color: var(--disabled-bg-color);\n",
       "    fill: var(--disabled-fill-color);\n",
       "    box-shadow: none;\n",
       "  }\n",
       "\n",
       "  .colab-df-spinner {\n",
       "    border: 2px solid var(--fill-color);\n",
       "    border-color: transparent;\n",
       "    border-bottom-color: var(--fill-color);\n",
       "    animation:\n",
       "      spin 1s steps(1) infinite;\n",
       "  }\n",
       "\n",
       "  @keyframes spin {\n",
       "    0% {\n",
       "      border-color: transparent;\n",
       "      border-bottom-color: var(--fill-color);\n",
       "      border-left-color: var(--fill-color);\n",
       "    }\n",
       "    20% {\n",
       "      border-color: transparent;\n",
       "      border-left-color: var(--fill-color);\n",
       "      border-top-color: var(--fill-color);\n",
       "    }\n",
       "    30% {\n",
       "      border-color: transparent;\n",
       "      border-left-color: var(--fill-color);\n",
       "      border-top-color: var(--fill-color);\n",
       "      border-right-color: var(--fill-color);\n",
       "    }\n",
       "    40% {\n",
       "      border-color: transparent;\n",
       "      border-right-color: var(--fill-color);\n",
       "      border-top-color: var(--fill-color);\n",
       "    }\n",
       "    60% {\n",
       "      border-color: transparent;\n",
       "      border-right-color: var(--fill-color);\n",
       "    }\n",
       "    80% {\n",
       "      border-color: transparent;\n",
       "      border-right-color: var(--fill-color);\n",
       "      border-bottom-color: var(--fill-color);\n",
       "    }\n",
       "    90% {\n",
       "      border-color: transparent;\n",
       "      border-bottom-color: var(--fill-color);\n",
       "    }\n",
       "  }\n",
       "</style>\n",
       "\n",
       "  <script>\n",
       "    async function quickchart(key) {\n",
       "      const quickchartButtonEl =\n",
       "        document.querySelector('#' + key + ' button');\n",
       "      quickchartButtonEl.disabled = true;  // To prevent multiple clicks.\n",
       "      quickchartButtonEl.classList.add('colab-df-spinner');\n",
       "      try {\n",
       "        const charts = await google.colab.kernel.invokeFunction(\n",
       "            'suggestCharts', [key], {});\n",
       "      } catch (error) {\n",
       "        console.error('Error during call to suggestCharts:', error);\n",
       "      }\n",
       "      quickchartButtonEl.classList.remove('colab-df-spinner');\n",
       "      quickchartButtonEl.classList.add('colab-df-quickchart-complete');\n",
       "    }\n",
       "    (() => {\n",
       "      let quickchartButtonEl =\n",
       "        document.querySelector('#df-794900ac-5385-43a7-a41d-3f766da754e5 button');\n",
       "      quickchartButtonEl.style.display =\n",
       "        google.colab.kernel.accessAllowed ? 'block' : 'none';\n",
       "    })();\n",
       "  </script>\n",
       "</div>\n",
       "\n",
       "  <div id=\"id_f235c2b7-e438-415d-847f-ac2a7068351f\">\n",
       "    <style>\n",
       "      .colab-df-generate {\n",
       "        background-color: #E8F0FE;\n",
       "        border: none;\n",
       "        border-radius: 50%;\n",
       "        cursor: pointer;\n",
       "        display: none;\n",
       "        fill: #1967D2;\n",
       "        height: 32px;\n",
       "        padding: 0 0 0 0;\n",
       "        width: 32px;\n",
       "      }\n",
       "\n",
       "      .colab-df-generate:hover {\n",
       "        background-color: #E2EBFA;\n",
       "        box-shadow: 0px 1px 2px rgba(60, 64, 67, 0.3), 0px 1px 3px 1px rgba(60, 64, 67, 0.15);\n",
       "        fill: #174EA6;\n",
       "      }\n",
       "\n",
       "      [theme=dark] .colab-df-generate {\n",
       "        background-color: #3B4455;\n",
       "        fill: #D2E3FC;\n",
       "      }\n",
       "\n",
       "      [theme=dark] .colab-df-generate:hover {\n",
       "        background-color: #434B5C;\n",
       "        box-shadow: 0px 1px 3px 1px rgba(0, 0, 0, 0.15);\n",
       "        filter: drop-shadow(0px 1px 2px rgba(0, 0, 0, 0.3));\n",
       "        fill: #FFFFFF;\n",
       "      }\n",
       "    </style>\n",
       "    <button class=\"colab-df-generate\" onclick=\"generateWithVariable('df_20')\"\n",
       "            title=\"Generate code using this dataframe.\"\n",
       "            style=\"display:none;\">\n",
       "\n",
       "  <svg xmlns=\"http://www.w3.org/2000/svg\" height=\"24px\"viewBox=\"0 0 24 24\"\n",
       "       width=\"24px\">\n",
       "    <path d=\"M7,19H8.4L18.45,9,17,7.55,7,17.6ZM5,21V16.75L18.45,3.32a2,2,0,0,1,2.83,0l1.4,1.43a1.91,1.91,0,0,1,.58,1.4,1.91,1.91,0,0,1-.58,1.4L9.25,21ZM18.45,9,17,7.55Zm-12,3A5.31,5.31,0,0,0,4.9,8.1,5.31,5.31,0,0,0,1,6.5,5.31,5.31,0,0,0,4.9,4.9,5.31,5.31,0,0,0,6.5,1,5.31,5.31,0,0,0,8.1,4.9,5.31,5.31,0,0,0,12,6.5,5.46,5.46,0,0,0,6.5,12Z\"/>\n",
       "  </svg>\n",
       "    </button>\n",
       "    <script>\n",
       "      (() => {\n",
       "      const buttonEl =\n",
       "        document.querySelector('#id_f235c2b7-e438-415d-847f-ac2a7068351f button.colab-df-generate');\n",
       "      buttonEl.style.display =\n",
       "        google.colab.kernel.accessAllowed ? 'block' : 'none';\n",
       "\n",
       "      buttonEl.onclick = () => {\n",
       "        google.colab.notebook.generateWithVariable('df_20');\n",
       "      }\n",
       "      })();\n",
       "    </script>\n",
       "  </div>\n",
       "\n",
       "    </div>\n",
       "  </div>\n"
      ],
      "text/plain": [
       "                                  file_name  age  gender  race\n",
       "0     29_1_2_20170116172543850.jpg.chip.jpg   29       1     2\n",
       "1     29_1_1_20170112205844564.jpg.chip.jpg   29       1     1\n",
       "2     29_1_2_20170116175313289.jpg.chip.jpg   29       1     2\n",
       "3     29_0_1_20170117104547721.jpg.chip.jpg   29       0     1\n",
       "4     29_0_3_20170117022426014.jpg.chip.jpg   29       0     3\n",
       "...                                     ...  ...     ...   ...\n",
       "7339  20_0_3_20170104214325910.jpg.chip.jpg   20       0     3\n",
       "7340  20_0_3_20170119151303902.jpg.chip.jpg   20       0     3\n",
       "7341  20_0_1_20170113132622368.jpg.chip.jpg   20       0     1\n",
       "7342  20_0_0_20170113184350758.jpg.chip.jpg   20       0     0\n",
       "7343  20_0_1_20170113133103776.jpg.chip.jpg   20       0     1\n",
       "\n",
       "[7344 rows x 4 columns]"
      ]
     },
     "execution_count": 65,
     "metadata": {},
     "output_type": "execute_result"
    }
   ],
   "source": [
    "df_20 = df[df['age'] // 10 == 2].reset_index(drop=True)\n",
    "df_20"
   ]
  },
  {
   "cell_type": "code",
   "execution_count": 74,
   "metadata": {
    "executionInfo": {
     "elapsed": 448,
     "status": "ok",
     "timestamp": 1710829910028,
     "user": {
      "displayName": "이경로",
      "userId": "07872457750052396062"
     },
     "user_tz": -540
    },
    "id": "LOod1dDAZVqj"
   },
   "outputs": [],
   "source": [
    "# def preprocess_image(img) :\n",
    "#   x = image.img_to_array(img)\n",
    "#   x = np.expand_dims(img, axis=0)\n",
    "#   x = utils.preprocess_input(img, version=1)\n",
    "#   return x"
   ]
  },
  {
   "cell_type": "code",
   "execution_count": 80,
   "metadata": {
    "executionInfo": {
     "elapsed": 1,
     "status": "ok",
     "timestamp": 1710830152889,
     "user": {
      "displayName": "이경로",
      "userId": "07872457750052396062"
     },
     "user_tz": -540
    },
    "id": "ri7KoRELbGOW"
   },
   "outputs": [],
   "source": [
    "from keras_vggface import utils"
   ]
  },
  {
   "cell_type": "code",
   "execution_count": 86,
   "metadata": {
    "executionInfo": {
     "elapsed": 4,
     "status": "ok",
     "timestamp": 1710830471860,
     "user": {
      "displayName": "이경로",
      "userId": "07872457750052396062"
     },
     "user_tz": -540
    },
    "id": "93WigotUujqu"
   },
   "outputs": [],
   "source": [
    "# for idx in [random.randint(0, df_20.shape[0] - 1) for _ in range(5)]:\n",
    "#   print(class_gender_inv[np.round(pred[0][0])])\n",
    "#   file_name = df_20.iloc[idx, 0]\n",
    "#   img = image.load_img('./UTKFace/' + file_name, target_size=(224, 224))\n",
    "\n",
    "#   x = image.img_to_array(img)\n",
    "#   x = np.expand_dims(x, axis=0)\n",
    "#   x = utils.preprocess_input(x, version=1)\n",
    "#   pred = model_gender.predict_generator(x)\n",
    "#   # print('Result : ', utils.decode_predictions(pred))\n",
    "#   plt.figure(figsize=(1.5, 1.5))\n",
    "#   plt.axis('off')\n",
    "#   plt.imshow(img)\n"
   ]
  },
  {
   "cell_type": "code",
   "execution_count": 79,
   "metadata": {
    "executionInfo": {
     "elapsed": 569,
     "status": "ok",
     "timestamp": 1710830144415,
     "user": {
      "displayName": "이경로",
      "userId": "07872457750052396062"
     },
     "user_tz": -540
    },
    "id": "RV8KuIT9WeCs"
   },
   "outputs": [],
   "source": []
  },
  {
   "cell_type": "code",
   "execution_count": 92,
   "metadata": {
    "colab": {
     "base_uri": "https://localhost:8080/",
     "height": 424
    },
    "executionInfo": {
     "elapsed": 1390,
     "status": "ok",
     "timestamp": 1710830534103,
     "user": {
      "displayName": "이경로",
      "userId": "07872457750052396062"
     },
     "user_tz": -540
    },
    "id": "F5csxiWHFiiA",
    "outputId": "8bf29768-0d4e-43d2-ec03-ff28adf5151d"
   },
   "outputs": [
    {
     "name": "stdout",
     "output_type": "stream",
     "text": [
      "Male\n"
     ]
    },
    {
     "data": {
      "image/png": "[encoded data removed]",
      "text/plain": [
       "<Figure size 640x480 with 1 Axes>"
      ]
     },
     "metadata": {},
     "output_type": "display_data"
    }
   ],
   "source": [
    "img = image.load_img('./UTKFace/29_0_3_20170117022426014.jpg.chip.jpg', target_size=(224, 224))\n",
    "\n",
    "x = image.img_to_array(img)\n",
    "x = np.expand_dims(x, axis=0)\n",
    "x = utils.preprocess_input(x, version=1)\n",
    "pred = model_gender.predict_generator(x)\n",
    "# print('Result : ', utils.decode_predictions(pred))\n",
    "plt.imshow(img)\n",
    "plt.axis('off')\n",
    "print(class_gender_inv[np.round(pred[0][0])])\n",
    "# print(utils.decode_predictions(pred))"
   ]
  },
  {
   "cell_type": "code",
   "execution_count": null,
   "metadata": {
    "id": "u5j7F8r5W34F"
   },
   "outputs": [],
   "source": []
  }
 ],
 "metadata": {
  "accelerator": "GPU",
  "colab": {
   "authorship_tag": "ABX9TyPysa8sR9BlfBLeD+u0ZS8T",
   "gpuType": "V100",
   "machine_shape": "hm",
   "mount_file_id": "1T8X4SsH-_ZGJXXc0GvdzR0JdnFhXSA_c",
   "provenance": []
  },
  "kernelspec": {
   "display_name": "Python 3 (ipykernel)",
   "language": "python",
   "name": "python3"
  },
  "language_info": {
   "codemirror_mode": {
    "name": "ipython",
    "version": 3
   },
   "file_extension": ".py",
   "mimetype": "text/x-python",
   "name": "python",
   "nbconvert_exporter": "python",
   "pygments_lexer": "ipython3",
   "version": "3.11.7"
  }
 },
 "nbformat": 4,
 "nbformat_minor": 4
}
