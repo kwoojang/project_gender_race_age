{
 "cells": [
  {
   "cell_type": "code",
   "execution_count": 15,
   "id": "d7c2fe6d",
   "metadata": {},
   "outputs": [],
   "source": [
    "import numpy as np\n",
    "import pandas as pd\n",
    "import matplotlib.pyplot as plt\n",
    "from PIL import Image\n",
    "import os\n",
    "%matplotlib inline"
   ]
  },
  {
   "cell_type": "code",
   "execution_count": 16,
   "id": "70722d44",
   "metadata": {},
   "outputs": [
    {
     "data": {
      "text/html": [
       "<div>\n",
       "<style scoped>\n",
       "    .dataframe tbody tr th:only-of-type {\n",
       "        vertical-align: middle;\n",
       "    }\n",
       "\n",
       "    .dataframe tbody tr th {\n",
       "        vertical-align: top;\n",
       "    }\n",
       "\n",
       "    .dataframe thead th {\n",
       "        text-align: right;\n",
       "    }\n",
       "</style>\n",
       "<table border=\"1\" class=\"dataframe\">\n",
       "  <thead>\n",
       "    <tr style=\"text-align: right;\">\n",
       "      <th></th>\n",
       "      <th>file_name</th>\n",
       "      <th>age</th>\n",
       "      <th>gender</th>\n",
       "      <th>race</th>\n",
       "      <th>age_cat</th>\n",
       "    </tr>\n",
       "  </thead>\n",
       "  <tbody>\n",
       "    <tr>\n",
       "      <th>0</th>\n",
       "      <td>56_1_0_20170117172544019.jpg.chip.jpg</td>\n",
       "      <td>56</td>\n",
       "      <td>1</td>\n",
       "      <td>0</td>\n",
       "      <td>50</td>\n",
       "    </tr>\n",
       "    <tr>\n",
       "      <th>1</th>\n",
       "      <td>50_0_0_20170104212134308.jpg.chip.jpg</td>\n",
       "      <td>50</td>\n",
       "      <td>0</td>\n",
       "      <td>0</td>\n",
       "      <td>50</td>\n",
       "    </tr>\n",
       "    <tr>\n",
       "      <th>2</th>\n",
       "      <td>45_0_0_20170111204133863.jpg.chip.jpg</td>\n",
       "      <td>45</td>\n",
       "      <td>0</td>\n",
       "      <td>0</td>\n",
       "      <td>40</td>\n",
       "    </tr>\n",
       "    <tr>\n",
       "      <th>3</th>\n",
       "      <td>27_0_0_20170114034255912.jpg.chip.jpg</td>\n",
       "      <td>27</td>\n",
       "      <td>0</td>\n",
       "      <td>0</td>\n",
       "      <td>20</td>\n",
       "    </tr>\n",
       "    <tr>\n",
       "      <th>4</th>\n",
       "      <td>26_0_0_20170105183712607.jpg.chip.jpg</td>\n",
       "      <td>26</td>\n",
       "      <td>0</td>\n",
       "      <td>0</td>\n",
       "      <td>20</td>\n",
       "    </tr>\n",
       "    <tr>\n",
       "      <th>...</th>\n",
       "      <td>...</td>\n",
       "      <td>...</td>\n",
       "      <td>...</td>\n",
       "      <td>...</td>\n",
       "      <td>...</td>\n",
       "    </tr>\n",
       "    <tr>\n",
       "      <th>10270</th>\n",
       "      <td>9_1_2_20161219190524395.jpg.chip.jpg</td>\n",
       "      <td>9</td>\n",
       "      <td>1</td>\n",
       "      <td>2</td>\n",
       "      <td>&lt;20</td>\n",
       "    </tr>\n",
       "    <tr>\n",
       "      <th>10271</th>\n",
       "      <td>9_1_2_20161219192342173.jpg.chip.jpg</td>\n",
       "      <td>9</td>\n",
       "      <td>1</td>\n",
       "      <td>2</td>\n",
       "      <td>&lt;20</td>\n",
       "    </tr>\n",
       "    <tr>\n",
       "      <th>10272</th>\n",
       "      <td>9_1_2_20161219204347420.jpg.chip.jpg</td>\n",
       "      <td>9</td>\n",
       "      <td>1</td>\n",
       "      <td>2</td>\n",
       "      <td>&lt;20</td>\n",
       "    </tr>\n",
       "    <tr>\n",
       "      <th>10273</th>\n",
       "      <td>9_1_2_20170102235115156.jpg.chip.jpg</td>\n",
       "      <td>9</td>\n",
       "      <td>1</td>\n",
       "      <td>2</td>\n",
       "      <td>&lt;20</td>\n",
       "    </tr>\n",
       "    <tr>\n",
       "      <th>10274</th>\n",
       "      <td>9_1_2_20170104020210475.jpg.chip.jpg</td>\n",
       "      <td>9</td>\n",
       "      <td>1</td>\n",
       "      <td>2</td>\n",
       "      <td>&lt;20</td>\n",
       "    </tr>\n",
       "  </tbody>\n",
       "</table>\n",
       "<p>10275 rows × 5 columns</p>\n",
       "</div>"
      ],
      "text/plain": [
       "                                   file_name  age  gender  race age_cat\n",
       "0      56_1_0_20170117172544019.jpg.chip.jpg   56       1     0      50\n",
       "1      50_0_0_20170104212134308.jpg.chip.jpg   50       0     0      50\n",
       "2      45_0_0_20170111204133863.jpg.chip.jpg   45       0     0      40\n",
       "3      27_0_0_20170114034255912.jpg.chip.jpg   27       0     0      20\n",
       "4      26_0_0_20170105183712607.jpg.chip.jpg   26       0     0      20\n",
       "...                                      ...  ...     ...   ...     ...\n",
       "10270   9_1_2_20161219190524395.jpg.chip.jpg    9       1     2     <20\n",
       "10271   9_1_2_20161219192342173.jpg.chip.jpg    9       1     2     <20\n",
       "10272   9_1_2_20161219204347420.jpg.chip.jpg    9       1     2     <20\n",
       "10273   9_1_2_20170102235115156.jpg.chip.jpg    9       1     2     <20\n",
       "10274   9_1_2_20170104020210475.jpg.chip.jpg    9       1     2     <20\n",
       "\n",
       "[10275 rows x 5 columns]"
      ]
     },
     "execution_count": 16,
     "metadata": {},
     "output_type": "execute_result"
    }
   ],
   "source": [
    "df = pd.read_csv('./data01_undersampled.csv')\n",
    "df"
   ]
  },
  {
   "cell_type": "code",
   "execution_count": 17,
   "id": "36efad8f",
   "metadata": {},
   "outputs": [
    {
     "data": {
      "text/plain": [
       "2055"
      ]
     },
     "execution_count": 17,
     "metadata": {},
     "output_type": "execute_result"
    }
   ],
   "source": [
    "test_size = round(len(df.index) * 0.2)\n",
    "test_size"
   ]
  },
  {
   "cell_type": "code",
   "execution_count": 18,
   "id": "f62df91b",
   "metadata": {},
   "outputs": [],
   "source": [
    "import random"
   ]
  },
  {
   "cell_type": "code",
   "execution_count": 29,
   "id": "49cdc83c",
   "metadata": {},
   "outputs": [
    {
     "data": {
      "text/plain": [
       "2055"
      ]
     },
     "execution_count": 29,
     "metadata": {},
     "output_type": "execute_result"
    }
   ],
   "source": [
    "test_index = [random.randint(0, len(df.index) - 1) for _ in range(test_size)]\n",
    "len(test_index)"
   ]
  },
  {
   "cell_type": "code",
   "execution_count": 20,
   "id": "af6f4e32",
   "metadata": {},
   "outputs": [
    {
     "data": {
      "text/html": [
       "<div>\n",
       "<style scoped>\n",
       "    .dataframe tbody tr th:only-of-type {\n",
       "        vertical-align: middle;\n",
       "    }\n",
       "\n",
       "    .dataframe tbody tr th {\n",
       "        vertical-align: top;\n",
       "    }\n",
       "\n",
       "    .dataframe thead th {\n",
       "        text-align: right;\n",
       "    }\n",
       "</style>\n",
       "<table border=\"1\" class=\"dataframe\">\n",
       "  <thead>\n",
       "    <tr style=\"text-align: right;\">\n",
       "      <th></th>\n",
       "      <th>file_name</th>\n",
       "      <th>age</th>\n",
       "      <th>gender</th>\n",
       "      <th>race</th>\n",
       "      <th>age_cat</th>\n",
       "    </tr>\n",
       "  </thead>\n",
       "  <tbody>\n",
       "    <tr>\n",
       "      <th>0</th>\n",
       "      <td>29_1_2_20170116162958843.jpg.chip.jpg</td>\n",
       "      <td>29</td>\n",
       "      <td>1</td>\n",
       "      <td>2</td>\n",
       "      <td>20</td>\n",
       "    </tr>\n",
       "    <tr>\n",
       "      <th>1</th>\n",
       "      <td>34_1_2_20170116193448303.jpg.chip.jpg</td>\n",
       "      <td>34</td>\n",
       "      <td>1</td>\n",
       "      <td>2</td>\n",
       "      <td>30</td>\n",
       "    </tr>\n",
       "    <tr>\n",
       "      <th>2</th>\n",
       "      <td>42_0_1_20170113155055273.jpg.chip.jpg</td>\n",
       "      <td>42</td>\n",
       "      <td>0</td>\n",
       "      <td>1</td>\n",
       "      <td>40</td>\n",
       "    </tr>\n",
       "    <tr>\n",
       "      <th>3</th>\n",
       "      <td>65_0_1_20170117171258523.jpg.chip.jpg</td>\n",
       "      <td>65</td>\n",
       "      <td>0</td>\n",
       "      <td>1</td>\n",
       "      <td>60</td>\n",
       "    </tr>\n",
       "    <tr>\n",
       "      <th>4</th>\n",
       "      <td>4_0_2_20161219141105897.jpg.chip.jpg</td>\n",
       "      <td>4</td>\n",
       "      <td>0</td>\n",
       "      <td>2</td>\n",
       "      <td>&lt;20</td>\n",
       "    </tr>\n",
       "    <tr>\n",
       "      <th>...</th>\n",
       "      <td>...</td>\n",
       "      <td>...</td>\n",
       "      <td>...</td>\n",
       "      <td>...</td>\n",
       "      <td>...</td>\n",
       "    </tr>\n",
       "    <tr>\n",
       "      <th>2050</th>\n",
       "      <td>60_0_0_20170117001135611.jpg.chip.jpg</td>\n",
       "      <td>60</td>\n",
       "      <td>0</td>\n",
       "      <td>0</td>\n",
       "      <td>60</td>\n",
       "    </tr>\n",
       "    <tr>\n",
       "      <th>2051</th>\n",
       "      <td>26_1_2_20170116175900172.jpg.chip.jpg</td>\n",
       "      <td>26</td>\n",
       "      <td>1</td>\n",
       "      <td>2</td>\n",
       "      <td>20</td>\n",
       "    </tr>\n",
       "    <tr>\n",
       "      <th>2052</th>\n",
       "      <td>32_0_2_20170104170708615.jpg.chip.jpg</td>\n",
       "      <td>32</td>\n",
       "      <td>0</td>\n",
       "      <td>2</td>\n",
       "      <td>30</td>\n",
       "    </tr>\n",
       "    <tr>\n",
       "      <th>2053</th>\n",
       "      <td>40_0_0_20170117170711073.jpg.chip.jpg</td>\n",
       "      <td>40</td>\n",
       "      <td>0</td>\n",
       "      <td>0</td>\n",
       "      <td>40</td>\n",
       "    </tr>\n",
       "    <tr>\n",
       "      <th>2054</th>\n",
       "      <td>71_0_1_20170113175251268.jpg.chip.jpg</td>\n",
       "      <td>71</td>\n",
       "      <td>0</td>\n",
       "      <td>1</td>\n",
       "      <td>70</td>\n",
       "    </tr>\n",
       "  </tbody>\n",
       "</table>\n",
       "<p>2055 rows × 5 columns</p>\n",
       "</div>"
      ],
      "text/plain": [
       "                                  file_name  age  gender  race age_cat\n",
       "0     29_1_2_20170116162958843.jpg.chip.jpg   29       1     2      20\n",
       "1     34_1_2_20170116193448303.jpg.chip.jpg   34       1     2      30\n",
       "2     42_0_1_20170113155055273.jpg.chip.jpg   42       0     1      40\n",
       "3     65_0_1_20170117171258523.jpg.chip.jpg   65       0     1      60\n",
       "4      4_0_2_20161219141105897.jpg.chip.jpg    4       0     2     <20\n",
       "...                                     ...  ...     ...   ...     ...\n",
       "2050  60_0_0_20170117001135611.jpg.chip.jpg   60       0     0      60\n",
       "2051  26_1_2_20170116175900172.jpg.chip.jpg   26       1     2      20\n",
       "2052  32_0_2_20170104170708615.jpg.chip.jpg   32       0     2      30\n",
       "2053  40_0_0_20170117170711073.jpg.chip.jpg   40       0     0      40\n",
       "2054  71_0_1_20170113175251268.jpg.chip.jpg   71       0     1      70\n",
       "\n",
       "[2055 rows x 5 columns]"
      ]
     },
     "execution_count": 20,
     "metadata": {},
     "output_type": "execute_result"
    }
   ],
   "source": [
    "df.loc[test_index, :].reset_index(drop=True)"
   ]
  },
  {
   "cell_type": "code",
   "execution_count": 21,
   "id": "9202f58c",
   "metadata": {},
   "outputs": [
    {
     "data": {
      "image/png": "[encoded data removed]",
      "text/plain": [
       "<Figure size 640x480 with 1 Axes>"
      ]
     },
     "metadata": {},
     "output_type": "display_data"
    }
   ],
   "source": [
    "plt.pie(list(df.loc[test_index, :].reset_index(drop=True)['gender'].value_counts()), labels=['Men', 'Women'], \n",
    "       autopct='%.1f%%', explode=[0.01, 0.01], counterclock=False, shadow=True)\n",
    "plt.title('Gender')\n",
    "plt.show()"
   ]
  },
  {
   "cell_type": "code",
   "execution_count": 22,
   "id": "1236821d",
   "metadata": {},
   "outputs": [
    {
     "data": {
      "image/png": "[encoded data removed]",
      "text/plain": [
       "<Figure size 640x480 with 1 Axes>"
      ]
     },
     "metadata": {},
     "output_type": "display_data"
    }
   ],
   "source": [
    "plt.pie(list(df.loc[test_index, :].reset_index(drop=True)['age_cat'].value_counts()), labels=list(df['age_cat'].value_counts().index), \n",
    "       autopct='%.1f%%', explode=([0.01] * df['age_cat'].nunique()), counterclock=False, shadow=True)\n",
    "plt.title('Age')\n",
    "plt.show()"
   ]
  },
  {
   "cell_type": "code",
   "execution_count": 23,
   "id": "1ebbb726",
   "metadata": {},
   "outputs": [
    {
     "data": {
      "image/png": "[encoded data removed]",
      "text/plain": [
       "<Figure size 640x480 with 1 Axes>"
      ]
     },
     "metadata": {},
     "output_type": "display_data"
    }
   ],
   "source": [
    "plt.pie(list(df.loc[test_index, :].reset_index(drop=True)['race'].value_counts()), labels=['White', 'Black', 'Asian'], \n",
    "       autopct='%.1f%%', explode=([0.01] * df['race'].nunique()), counterclock=False, shadow=True)\n",
    "plt.title('Race')\n",
    "plt.show()"
   ]
  },
  {
   "cell_type": "code",
   "execution_count": 24,
   "id": "13ee5945",
   "metadata": {},
   "outputs": [
    {
     "name": "stdout",
     "output_type": "stream",
     "text": [
      "50_0_0_20170104212134308.jpg.chip.jpg\n",
      "50\n",
      "0\n",
      "0\n"
     ]
    }
   ],
   "source": [
    "print(df.iloc[1, 0])\n",
    "print(df.iloc[1, 1])\n",
    "print(df.iloc[1, 2])\n",
    "print(df.iloc[1, 3])"
   ]
  },
  {
   "cell_type": "code",
   "execution_count": 34,
   "id": "81678aa6",
   "metadata": {},
   "outputs": [],
   "source": [
    "for idx in df.index :\n",
    "  file_name = df.iloc[idx, 0]\n",
    "  img = Image.open('./UTKFace/' + file_name)\n",
    "  gender = df.iloc[idx, 2]\n",
    "  race = df.iloc[idx, 3]\n",
    "\n",
    "\n",
    "\n",
    "  if gender == 0 :\n",
    "    if idx in test_index :\n",
    "      img.save('./Test/Gender/Male/' + file_name)\n",
    "\n",
    "    else :\n",
    "      img.save('./Train/Gender/Male/' + file_name)\n",
    "\n",
    "  else :\n",
    "    if idx in test_index :\n",
    "      img.save('./Test/Gender/Female/' + file_name)\n",
    "\n",
    "    else :\n",
    "      img.save('./Train/Gender/Female/' + file_name)\n",
    "\n",
    "##################################################################\n",
    "##################################################################\n",
    "\n",
    "  if race == 0 :\n",
    "    if idx in test_index :\n",
    "      img.save('./Test/Race/White/' + file_name)\n",
    "\n",
    "    else :\n",
    "      img.save('./Train/Race/White/' + file_name)\n",
    "\n",
    "  if race == 1 :\n",
    "    if idx in test_index :\n",
    "      img.save('./Test/Race/Black/' + file_name)\n",
    "\n",
    "    else :\n",
    "      img.save('./Train/Race/Black/' + file_name)\n",
    "\n",
    "  if race == 2 :\n",
    "    if idx in test_index :\n",
    "      img.save('./Test/Race/Asian/' + file_name)\n",
    "\n",
    "    else :\n",
    "      img.save('./Train/Race/Asian/' + file_name)\n",
    "\n"
   ]
  },
  {
   "cell_type": "code",
   "execution_count": 41,
   "id": "c6487625",
   "metadata": {},
   "outputs": [
    {
     "data": {
      "text/plain": [
       "1876"
      ]
     },
     "execution_count": 41,
     "metadata": {},
     "output_type": "execute_result"
    }
   ],
   "source": [
    "test = len(os.listdir('./Test/Gender/Female/')) + len(os.listdir('./Test/Gender/Male'))\n",
    "test"
   ]
  },
  {
   "cell_type": "code",
   "execution_count": 36,
   "id": "944767d3",
   "metadata": {},
   "outputs": [
    {
     "data": {
      "text/plain": [
       "1876"
      ]
     },
     "execution_count": 36,
     "metadata": {},
     "output_type": "execute_result"
    }
   ],
   "source": [
    "len(os.listdir('./Test/Race/Black/')) + len(os.listdir('./Test/Race/White')) + len(os.listdir('./Test/Race/Asian'))"
   ]
  },
  {
   "cell_type": "code",
   "execution_count": 42,
   "id": "14573a86",
   "metadata": {},
   "outputs": [
    {
     "data": {
      "text/plain": [
       "8399"
      ]
     },
     "execution_count": 42,
     "metadata": {},
     "output_type": "execute_result"
    }
   ],
   "source": [
    "train = len(os.listdir('./Train/Gender/Female/')) + len(os.listdir('./Train/Gender/Male'))\n",
    "train"
   ]
  },
  {
   "cell_type": "code",
   "execution_count": 38,
   "id": "03638e52",
   "metadata": {},
   "outputs": [
    {
     "data": {
      "text/plain": [
       "8399"
      ]
     },
     "execution_count": 38,
     "metadata": {},
     "output_type": "execute_result"
    }
   ],
   "source": [
    "len(os.listdir('./Train/Race/Black/')) + len(os.listdir('./Train/Race/White')) + len(os.listdir('./Train/Race/Asian'))"
   ]
  },
  {
   "cell_type": "code",
   "execution_count": 40,
   "id": "8ccbf8d0",
   "metadata": {},
   "outputs": [
    {
     "data": {
      "text/plain": [
       "10275"
      ]
     },
     "execution_count": 40,
     "metadata": {},
     "output_type": "execute_result"
    }
   ],
   "source": [
    "total = len(os.listdir('./Test/Gender/Female/')) + len(os.listdir('./Test/Gender/Male')) + len(os.listdir('./Train/Gender/Female/')) + len(os.listdir('./Train/Gender/Male'))\n",
    "total"
   ]
  },
  {
   "cell_type": "code",
   "execution_count": 43,
   "id": "6922b731",
   "metadata": {},
   "outputs": [
    {
     "data": {
      "text/plain": [
       "0.8174209245742092"
      ]
     },
     "execution_count": 43,
     "metadata": {},
     "output_type": "execute_result"
    }
   ],
   "source": [
    "train / total"
   ]
  },
  {
   "cell_type": "code",
   "execution_count": null,
   "id": "5efa8889",
   "metadata": {},
   "outputs": [],
   "source": []
  },
  {
   "cell_type": "code",
   "execution_count": null,
   "id": "1a5ef205",
   "metadata": {},
   "outputs": [],
   "source": []
  },
  {
   "cell_type": "code",
   "execution_count": null,
   "id": "f9339137",
   "metadata": {},
   "outputs": [],
   "source": []
  }
 ],
 "metadata": {
  "kernelspec": {
   "display_name": "Python 3 (ipykernel)",
   "language": "python",
   "name": "python3"
  },
  "language_info": {
   "codemirror_mode": {
    "name": "ipython",
    "version": 3
   },
   "file_extension": ".py",
   "mimetype": "text/x-python",
   "name": "python",
   "nbconvert_exporter": "python",
   "pygments_lexer": "ipython3",
   "version": "3.11.7"
  }
 },
 "nbformat": 4,
 "nbformat_minor": 5
}
