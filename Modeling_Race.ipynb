{
 "cells": [
  {
   "cell_type": "code",
   "execution_count": 1,
   "metadata": {
    "executionInfo": {
     "elapsed": 3,
     "status": "ok",
     "timestamp": 1710836105313,
     "user": {
      "displayName": "이경로",
      "userId": "07872457750052396062"
     },
     "user_tz": -540
    },
    "id": "CgpftaDS21nS"
   },
   "outputs": [],
   "source": [
    "# !pip install deepface"
   ]
  },
  {
   "cell_type": "code",
   "execution_count": 1,
   "metadata": {
    "colab": {
     "base_uri": "https://localhost:8080/"
    },
    "executionInfo": {
     "elapsed": 4332,
     "status": "ok",
     "timestamp": 1710893103068,
     "user": {
      "displayName": "이경로",
      "userId": "07872457750052396062"
     },
     "user_tz": -540
    },
    "id": "qlTU3OsEezRP",
    "outputId": "d1e61396-3622-45bd-fdd7-173ca40bd835"
   },
   "outputs": [
    {
     "name": "stdout",
     "output_type": "stream",
     "text": [
      "Requirement already satisfied: keras_vggface in /usr/local/lib/python3.10/dist-packages (0.6)\n",
      "Requirement already satisfied: numpy>=1.9.1 in /usr/local/lib/python3.10/dist-packages (from keras_vggface) (1.25.2)\n",
      "Requirement already satisfied: scipy>=0.14 in /usr/local/lib/python3.10/dist-packages (from keras_vggface) (1.11.4)\n",
      "Requirement already satisfied: h5py in /usr/local/lib/python3.10/dist-packages (from keras_vggface) (3.9.0)\n",
      "Requirement already satisfied: pillow in /usr/local/lib/python3.10/dist-packages (from keras_vggface) (9.4.0)\n",
      "Requirement already satisfied: keras in /usr/local/lib/python3.10/dist-packages (from keras_vggface) (2.12.0)\n",
      "Requirement already satisfied: six>=1.9.0 in /usr/local/lib/python3.10/dist-packages (from keras_vggface) (1.16.0)\n",
      "Requirement already satisfied: pyyaml in /usr/local/lib/python3.10/dist-packages (from keras_vggface) (6.0.1)\n"
     ]
    }
   ],
   "source": [
    "!pip install keras_vggface"
   ]
  },
  {
   "cell_type": "code",
   "execution_count": 2,
   "metadata": {
    "executionInfo": {
     "elapsed": 3,
     "status": "ok",
     "timestamp": 1710893103068,
     "user": {
      "displayName": "이경로",
      "userId": "07872457750052396062"
     },
     "user_tz": -540
    },
    "id": "MxAuRZmAyTJN"
   },
   "outputs": [],
   "source": [
    "# !pip install keras-vggface"
   ]
  },
  {
   "cell_type": "code",
   "execution_count": 3,
   "metadata": {
    "colab": {
     "base_uri": "https://localhost:8080/"
    },
    "executionInfo": {
     "elapsed": 4873,
     "status": "ok",
     "timestamp": 1710893107939,
     "user": {
      "displayName": "이경로",
      "userId": "07872457750052396062"
     },
     "user_tz": -540
    },
    "id": "jmbu2Q0XezVG",
    "outputId": "c47d0d51-0ea8-47c6-cce9-ec9ff450a76d"
   },
   "outputs": [
    {
     "name": "stdout",
     "output_type": "stream",
     "text": [
      "Requirement already satisfied: keras_applications in /usr/local/lib/python3.10/dist-packages (1.0.8)\n",
      "Requirement already satisfied: numpy>=1.9.1 in /usr/local/lib/python3.10/dist-packages (from keras_applications) (1.25.2)\n",
      "Requirement already satisfied: h5py in /usr/local/lib/python3.10/dist-packages (from keras_applications) (3.9.0)\n"
     ]
    }
   ],
   "source": [
    "!pip install keras_applications"
   ]
  },
  {
   "cell_type": "code",
   "execution_count": 4,
   "metadata": {
    "colab": {
     "base_uri": "https://localhost:8080/",
     "height": 35
    },
    "executionInfo": {
     "elapsed": 2942,
     "status": "ok",
     "timestamp": 1710893110879,
     "user": {
      "displayName": "이경로",
      "userId": "07872457750052396062"
     },
     "user_tz": -540
    },
    "id": "v5I3l6k0eqdb",
    "outputId": "2f84132e-3262-44f7-9905-1730265f97da"
   },
   "outputs": [
    {
     "data": {
      "application/vnd.google.colaboratory.intrinsic+json": {
       "type": "string"
      },
      "text/plain": [
       "'2.12.0'"
      ]
     },
     "execution_count": 4,
     "metadata": {},
     "output_type": "execute_result"
    }
   ],
   "source": [
    "import keras\n",
    "keras.__version__"
   ]
  },
  {
   "cell_type": "code",
   "execution_count": 9,
   "metadata": {
    "colab": {
     "base_uri": "https://localhost:8080/",
     "height": 376
    },
    "executionInfo": {
     "elapsed": 11751,
     "status": "ok",
     "timestamp": 1710893087947,
     "user": {
      "displayName": "이경로",
      "userId": "07872457750052396062"
     },
     "user_tz": -540
    },
    "id": "08zdjEmJeqn9",
    "outputId": "95b72af9-84a7-43da-fde9-29b511eaccff"
   },
   "outputs": [
    {
     "name": "stdout",
     "output_type": "stream",
     "text": [
      "Found existing installation: keras 2.15.0\n",
      "Uninstalling keras-2.15.0:\n",
      "  Would remove:\n",
      "    /usr/local/lib/python3.10/dist-packages/keras-2.15.0.dist-info/*\n",
      "    /usr/local/lib/python3.10/dist-packages/keras/*\n",
      "Proceed (Y/n)? \n",
      "  Successfully uninstalled keras-2.15.0\n",
      "Collecting keras==2.12\n",
      "  Downloading keras-2.12.0-py2.py3-none-any.whl (1.7 MB)\n",
      "\u001b[2K     \u001b[90m━━━━━━━━━━━━━━━━━━━━━━━━━━━━━━━━━━━━━━━━\u001b[0m \u001b[32m1.7/1.7 MB\u001b[0m \u001b[31m19.4 MB/s\u001b[0m eta \u001b[36m0:00:00\u001b[0m\n",
      "\u001b[?25hInstalling collected packages: keras\n",
      "\u001b[31mERROR: pip's dependency resolver does not currently take into account all the packages that are installed. This behaviour is the source of the following dependency conflicts.\n",
      "tensorflow 2.15.0 requires keras<2.16,>=2.15.0, but you have keras 2.12.0 which is incompatible.\u001b[0m\u001b[31m\n",
      "\u001b[0mSuccessfully installed keras-2.12.0\n"
     ]
    },
    {
     "data": {
      "application/vnd.colab-display-data+json": {
       "id": "9da0e33a3a7d42c9a6944fecfad021a8",
       "pip_warning": {
        "packages": [
         "keras"
        ]
       }
      }
     },
     "metadata": {},
     "output_type": "display_data"
    }
   ],
   "source": [
    "# !pip uninstall keras\n",
    "# !pip install keras==2.12"
   ]
  },
  {
   "cell_type": "code",
   "execution_count": 5,
   "metadata": {
    "executionInfo": {
     "elapsed": 851,
     "status": "ok",
     "timestamp": 1710893179775,
     "user": {
      "displayName": "이경로",
      "userId": "07872457750052396062"
     },
     "user_tz": -540
    },
    "id": "Dycxu4OouX_5"
   },
   "outputs": [],
   "source": [
    "import numpy as np\n",
    "import pandas as pd\n",
    "import matplotlib.pyplot as plt\n",
    "import warnings\n",
    "import random\n",
    "import cv2\n",
    "import os\n",
    "import tensorflow as tf\n",
    "from google.colab import drive\n",
    "from sklearn.model_selection import train_test_split\n",
    "from tensorflow.keras.datasets.cifar10 import load_data\n",
    "from tensorflow.keras.utils import to_categorical, load_img, img_to_array\n",
    "from tensorflow.keras.preprocessing import image\n",
    "from tensorflow.keras.models import Model, Sequential                       # Functional API 사용 예정.\n",
    "from tensorflow.keras.layers import Dense, Dropout, Flatten, Input, Conv2D, MaxPooling2D, BatchNormalization, Activation, ZeroPadding2D\n",
    "from tensorflow.keras.preprocessing import sequence, image_dataset_from_directory\n",
    "from tensorflow.keras.models import Sequential\n",
    "from tensorflow.keras.datasets.cifar10 import load_data\n",
    "from tensorflow.keras.applications import mobilenet             # 비교적 작은 크기의 모형.\n",
    "from tensorflow.keras.utils import to_categorical\n",
    "from tensorflow.keras.optimizers import Adam, RMSprop, SGD\n",
    "from tensorflow.keras.callbacks import EarlyStopping, ModelCheckpoint\n",
    "from tensorflow.keras.preprocessing.image import ImageDataGenerator\n",
    "\n",
    "# from deepface.basemodels import VGGFace\n",
    "warnings.filterwarnings('ignore')                               # Turn the warnings off.\n",
    "%matplotlib inline"
   ]
  },
  {
   "cell_type": "code",
   "execution_count": 6,
   "metadata": {
    "colab": {
     "base_uri": "https://localhost:8080/"
    },
    "executionInfo": {
     "elapsed": 2966,
     "status": "ok",
     "timestamp": 1710893183329,
     "user": {
      "displayName": "이경로",
      "userId": "07872457750052396062"
     },
     "user_tz": -540
    },
    "id": "lARPH4m0vVl8",
    "outputId": "a4b9c5fd-03e2-4d7d-bc26-de090ae21333"
   },
   "outputs": [
    {
     "name": "stdout",
     "output_type": "stream",
     "text": [
      "Drive already mounted at /content/drive; to attempt to forcibly remount, call drive.mount(\"/content/drive\", force_remount=True).\n"
     ]
    }
   ],
   "source": [
    "drive.mount('/content/drive')"
   ]
  },
  {
   "cell_type": "code",
   "execution_count": 7,
   "metadata": {
    "executionInfo": {
     "elapsed": 2,
     "status": "ok",
     "timestamp": 1710893183329,
     "user": {
      "displayName": "이경로",
      "userId": "07872457750052396062"
     },
     "user_tz": -540
    },
    "id": "Sdd4EEyTvdij"
   },
   "outputs": [],
   "source": [
    "os.chdir('/content/drive/MyDrive/TensorFlow/99. Project/Face_Predict')"
   ]
  },
  {
   "cell_type": "code",
   "execution_count": 8,
   "metadata": {
    "executionInfo": {
     "elapsed": 1449,
     "status": "ok",
     "timestamp": 1710893184777,
     "user": {
      "displayName": "이경로",
      "userId": "07872457750052396062"
     },
     "user_tz": -540
    },
    "id": "i3X_-BrGyCVo"
   },
   "outputs": [],
   "source": [
    "from keras_vggface.vggface import VGGFace"
   ]
  },
  {
   "cell_type": "code",
   "execution_count": 9,
   "metadata": {
    "executionInfo": {
     "elapsed": 18,
     "status": "ok",
     "timestamp": 1710893191574,
     "user": {
      "displayName": "이경로",
      "userId": "07872457750052396062"
     },
     "user_tz": -540
    },
    "id": "EtRxLJxRujMG"
   },
   "outputs": [],
   "source": [
    "train_race_datagen = ImageDataGenerator()\n",
    "test_race_datagen = ImageDataGenerator()"
   ]
  },
  {
   "cell_type": "code",
   "execution_count": 10,
   "metadata": {
    "colab": {
     "base_uri": "https://localhost:8080/"
    },
    "executionInfo": {
     "elapsed": 16,
     "status": "ok",
     "timestamp": 1710893191574,
     "user": {
      "displayName": "이경로",
      "userId": "07872457750052396062"
     },
     "user_tz": -540
    },
    "id": "HKDDmYX4vSOv",
    "outputId": "1c8882d6-dad6-49ae-a4f6-54e45bc0c249"
   },
   "outputs": [
    {
     "name": "stdout",
     "output_type": "stream",
     "text": [
      "/content/drive/MyDrive/TensorFlow/99. Project/Face_Predict\n"
     ]
    }
   ],
   "source": [
    "!pwd"
   ]
  },
  {
   "cell_type": "code",
   "execution_count": 11,
   "metadata": {
    "colab": {
     "base_uri": "https://localhost:8080/"
    },
    "executionInfo": {
     "elapsed": 11,
     "status": "ok",
     "timestamp": 1710893191575,
     "user": {
      "displayName": "이경로",
      "userId": "07872457750052396062"
     },
     "user_tz": -540
    },
    "id": "TtUil_JRvTlf",
    "outputId": "b49d4a23-b098-49a0-a8c0-364a6d26c6d6"
   },
   "outputs": [
    {
     "data": {
      "text/plain": [
       "['Code',\n",
       " 'sample01.ipynb',\n",
       " 'sample02.ipynb',\n",
       " 'vgg_face_weights.h5',\n",
       " 'kaggle.json',\n",
       " 'UTKFace',\n",
       " 'data01.csv',\n",
       " 'keras_vggface',\n",
       " '.ipynb_checkpoints',\n",
       " 'Train',\n",
       " 'Test']"
      ]
     },
     "execution_count": 11,
     "metadata": {},
     "output_type": "execute_result"
    }
   ],
   "source": [
    "os.listdir()"
   ]
  },
  {
   "cell_type": "code",
   "execution_count": 12,
   "metadata": {
    "colab": {
     "base_uri": "https://localhost:8080/"
    },
    "executionInfo": {
     "elapsed": 44107,
     "status": "ok",
     "timestamp": 1710893237540,
     "user": {
      "displayName": "이경로",
      "userId": "07872457750052396062"
     },
     "user_tz": -540
    },
    "id": "Av7VueH_ujPO",
    "outputId": "765a2a11-6895-46a0-c17e-d338e7c70b54"
   },
   "outputs": [
    {
     "name": "stdout",
     "output_type": "stream",
     "text": [
      "Found 9311 images belonging to 5 classes.\n",
      "Found 3208 images belonging to 5 classes.\n"
     ]
    }
   ],
   "source": [
    "train_race_generator = train_race_datagen.flow_from_directory(\n",
    "    './Train/Race',\n",
    "    target_size=(224, 224),\n",
    "    batch_size=32,\n",
    "    class_mode='categorical'\n",
    ")\n",
    "\n",
    "test_race_generator = test_race_datagen.flow_from_directory(\n",
    "    './Test/Race',\n",
    "    target_size=(224, 224),\n",
    "    batch_size=32,\n",
    "    class_mode='categorical'\n",
    ")"
   ]
  },
  {
   "cell_type": "code",
   "execution_count": 13,
   "metadata": {
    "colab": {
     "base_uri": "https://localhost:8080/"
    },
    "executionInfo": {
     "elapsed": 26,
     "status": "ok",
     "timestamp": 1710893237541,
     "user": {
      "displayName": "이경로",
      "userId": "07872457750052396062"
     },
     "user_tz": -540
    },
    "id": "-OWL12Sx0NTu",
    "outputId": "5cd5406d-775f-4c33-c582-5237e5068fae"
   },
   "outputs": [
    {
     "data": {
      "text/plain": [
       "{'Asian': 0, 'Black': 1, 'Indian': 2, 'Others': 3, 'White': 4}"
      ]
     },
     "execution_count": 13,
     "metadata": {},
     "output_type": "execute_result"
    }
   ],
   "source": [
    "train_race_generator.class_indices"
   ]
  },
  {
   "cell_type": "code",
   "execution_count": 14,
   "metadata": {
    "colab": {
     "base_uri": "https://localhost:8080/"
    },
    "executionInfo": {
     "elapsed": 25,
     "status": "ok",
     "timestamp": 1710893237541,
     "user": {
      "displayName": "이경로",
      "userId": "07872457750052396062"
     },
     "user_tz": -540
    },
    "id": "hsX7F2DBujSK",
    "outputId": "6aef02d9-08b2-4186-be30-fd0cbd83cf5f"
   },
   "outputs": [
    {
     "data": {
      "text/plain": [
       "{'Asian': 0, 'Black': 1, 'Indian': 2, 'Others': 3, 'White': 4}"
      ]
     },
     "execution_count": 14,
     "metadata": {},
     "output_type": "execute_result"
    }
   ],
   "source": [
    "test_race_generator.class_indices"
   ]
  },
  {
   "cell_type": "code",
   "execution_count": 15,
   "metadata": {
    "colab": {
     "base_uri": "https://localhost:8080/"
    },
    "executionInfo": {
     "elapsed": 14,
     "status": "ok",
     "timestamp": 1710893237541,
     "user": {
      "displayName": "이경로",
      "userId": "07872457750052396062"
     },
     "user_tz": -540
    },
    "id": "JGy_Bwv01QC0",
    "outputId": "2deae146-82f8-409a-d6f8-77692b136e59"
   },
   "outputs": [
    {
     "name": "stdout",
     "output_type": "stream",
     "text": [
      "total 568094\n",
      "drwx------ 2 root root      4096 Mar 18 08:41 Code\n",
      "-rw------- 1 root root   1060692 Mar 18 05:25 data01.csv\n",
      "-rw------- 1 root root        66 Mar 18 00:39 kaggle.json\n",
      "drwx------ 3 root root      4096 Mar 18 14:24 keras_vggface\n",
      "-rw------- 1 root root    470357 Mar 14 07:00 sample01.ipynb\n",
      "-rw------- 1 root root     89325 Mar 14 08:24 sample02.ipynb\n",
      "drwx------ 3 root root      4096 Mar 19 04:06 Test\n",
      "drwx------ 3 root root      4096 Mar 19 04:06 Train\n",
      "drwx------ 2 root root      4096 Mar 18 00:42 UTKFace\n",
      "-rw------- 1 root root 580085408 Mar 15 00:07 vgg_face_weights.h5\n"
     ]
    }
   ],
   "source": [
    "!ls -l"
   ]
  },
  {
   "cell_type": "code",
   "execution_count": 16,
   "metadata": {
    "executionInfo": {
     "elapsed": 450,
     "status": "ok",
     "timestamp": 1710893314714,
     "user": {
      "displayName": "이경로",
      "userId": "07872457750052396062"
     },
     "user_tz": -540
    },
    "id": "CYupUZYzujbg"
   },
   "outputs": [],
   "source": [
    "# #VGG-Face model\n",
    "# model = Sequential()\n",
    "# model.add(ZeroPadding2D((1,1),input_shape=(224,224, 3)))\n",
    "# model.add(Conv2D(64, (3, 3), activation='relu'))\n",
    "# model.add(ZeroPadding2D((1,1)))\n",
    "# model.add(Conv2D(64, (3, 3), activation='relu'))\n",
    "# model.add(MaxPooling2D((2,2), strides=(2,2)))\n",
    "\n",
    "# model.add(ZeroPadding2D((1,1)))\n",
    "# model.add(Conv2D(128, (3, 3), activation='relu'))\n",
    "# model.add(ZeroPadding2D((1,1)))\n",
    "# model.add(Conv2D(128, (3, 3), activation='relu'))\n",
    "# model.add(MaxPooling2D((2,2), strides=(2,2)))\n",
    "\n",
    "# model.add(ZeroPadding2D((1,1)))\n",
    "# model.add(Conv2D(256, (3, 3), activation='relu'))\n",
    "# model.add(ZeroPadding2D((1,1)))\n",
    "# model.add(Conv2D(256, (3, 3), activation='relu'))\n",
    "# model.add(ZeroPadding2D((1,1)))\n",
    "# model.add(Conv2D(256, (3, 3), activation='relu'))\n",
    "# model.add(MaxPooling2D((2,2), strides=(2,2)))\n",
    "\n",
    "# model.add(ZeroPadding2D((1,1)))\n",
    "# model.add(Conv2D(512, (3, 3), activation='relu'))\n",
    "# model.add(ZeroPadding2D((1,1)))\n",
    "# model.add(Conv2D(512, (3, 3), activation='relu'))\n",
    "# model.add(ZeroPadding2D((1,1)))\n",
    "# model.add(Conv2D(512, (3, 3), activation='relu'))\n",
    "# model.add(MaxPooling2D((2,2), strides=(2,2)))\n",
    "\n",
    "# model.add(ZeroPadding2D((1,1)))\n",
    "# model.add(Conv2D(512, (3, 3), activation='relu'))\n",
    "# model.add(ZeroPadding2D((1,1)))\n",
    "# model.add(Conv2D(512, (3, 3), activation='relu'))\n",
    "# model.add(ZeroPadding2D((1,1)))\n",
    "# model.add(Conv2D(512, (3, 3), activation='relu'))\n",
    "# model.add(MaxPooling2D((2,2), strides=(2,2)))\n",
    "\n",
    "# model.add(Conv2D(4096, (7, 7), activation='relu'))\n",
    "# model.add(Dropout(0.5))\n",
    "# model.add(Conv2D(4096, (1, 1), activation='relu'))\n",
    "# model.add(Dropout(0.5))\n",
    "# model.add(Conv2D(2622, (1, 1)))\n",
    "# model.add(Flatten())\n",
    "# model.add(Activation('softmax'))"
   ]
  },
  {
   "cell_type": "code",
   "execution_count": 17,
   "metadata": {
    "executionInfo": {
     "elapsed": 4,
     "status": "ok",
     "timestamp": 1710893318148,
     "user": {
      "displayName": "이경로",
      "userId": "07872457750052396062"
     },
     "user_tz": -540
    },
    "id": "bqorNBI_BJmq"
   },
   "outputs": [],
   "source": [
    "# model.summary()"
   ]
  },
  {
   "cell_type": "code",
   "execution_count": 18,
   "metadata": {
    "executionInfo": {
     "elapsed": 3,
     "status": "ok",
     "timestamp": 1710893318148,
     "user": {
      "displayName": "이경로",
      "userId": "07872457750052396062"
     },
     "user_tz": -540
    },
    "id": "h6il09WcBJp8"
   },
   "outputs": [],
   "source": [
    "# model.load_weights('./vgg_face_weights.h5')"
   ]
  },
  {
   "cell_type": "code",
   "execution_count": 19,
   "metadata": {
    "executionInfo": {
     "elapsed": 2,
     "status": "ok",
     "timestamp": 1710893318148,
     "user": {
      "displayName": "이경로",
      "userId": "07872457750052396062"
     },
     "user_tz": -540
    },
    "id": "D0MHhTu4BbnS"
   },
   "outputs": [],
   "source": [
    "# model.layers[-4].output"
   ]
  },
  {
   "cell_type": "code",
   "execution_count": 20,
   "metadata": {
    "executionInfo": {
     "elapsed": 2,
     "status": "ok",
     "timestamp": 1710893318148,
     "user": {
      "displayName": "이경로",
      "userId": "07872457750052396062"
     },
     "user_tz": -540
    },
    "id": "sgcaWeZvujek"
   },
   "outputs": [],
   "source": [
    "# for layer in model.layers[:-7] :\n",
    "#   layer.trainable = False\n"
   ]
  },
  {
   "cell_type": "code",
   "execution_count": 21,
   "metadata": {
    "executionInfo": {
     "elapsed": 2,
     "status": "ok",
     "timestamp": 1710893318148,
     "user": {
      "displayName": "이경로",
      "userId": "07872457750052396062"
     },
     "user_tz": -540
    },
    "id": "mofns0DxChBX"
   },
   "outputs": [],
   "source": [
    "# model.layers[-4].output"
   ]
  },
  {
   "cell_type": "code",
   "execution_count": 22,
   "metadata": {
    "executionInfo": {
     "elapsed": 2,
     "status": "ok",
     "timestamp": 1710893318148,
     "user": {
      "displayName": "이경로",
      "userId": "07872457750052396062"
     },
     "user_tz": -540
    },
    "id": "RoQlI_gjhEUa"
   },
   "outputs": [],
   "source": [
    "# model.input"
   ]
  },
  {
   "cell_type": "code",
   "execution_count": 23,
   "metadata": {
    "colab": {
     "base_uri": "https://localhost:8080/"
    },
    "executionInfo": {
     "elapsed": 4083,
     "status": "ok",
     "timestamp": 1710893323523,
     "user": {
      "displayName": "이경로",
      "userId": "07872457750052396062"
     },
     "user_tz": -540
    },
    "id": "i4P_VWEik6iw",
    "outputId": "b79b3ed2-e2d5-4b2e-c35f-a3cc919c9c68"
   },
   "outputs": [
    {
     "name": "stdout",
     "output_type": "stream",
     "text": [
      "Downloading data from https://github.com/rcmalli/keras-vggface/releases/download/v2.0/rcmalli_vggface_tf_notop_vgg16.h5\n",
      "58909280/58909280 [==============================] - 1s 0us/step\n"
     ]
    }
   ],
   "source": [
    "vggface = VGGFace(model='vgg16', include_top=False, input_shape=(224, 224, 3),\n",
    "                  pooling='avg')"
   ]
  },
  {
   "cell_type": "code",
   "execution_count": 24,
   "metadata": {
    "executionInfo": {
     "elapsed": 13,
     "status": "ok",
     "timestamp": 1710893323523,
     "user": {
      "displayName": "이경로",
      "userId": "07872457750052396062"
     },
     "user_tz": -540
    },
    "id": "d77sz8XXk6ll"
   },
   "outputs": [],
   "source": [
    "vggface.trainable = False"
   ]
  },
  {
   "cell_type": "code",
   "execution_count": 25,
   "metadata": {
    "colab": {
     "base_uri": "https://localhost:8080/"
    },
    "executionInfo": {
     "elapsed": 12,
     "status": "ok",
     "timestamp": 1710893323523,
     "user": {
      "displayName": "이경로",
      "userId": "07872457750052396062"
     },
     "user_tz": -540
    },
    "id": "3A5AOp3Bk6oi",
    "outputId": "ef393b07-733a-4503-ca53-ace96ff7f6c1"
   },
   "outputs": [
    {
     "name": "stdout",
     "output_type": "stream",
     "text": [
      "Model: \"vggface_vgg16\"\n",
      "_________________________________________________________________\n",
      " Layer (type)                Output Shape              Param #   \n",
      "=================================================================\n",
      " input_1 (InputLayer)        [(None, 224, 224, 3)]     0         \n",
      "                                                                 \n",
      " conv1_1 (Conv2D)            (None, 224, 224, 64)      1792      \n",
      "                                                                 \n",
      " conv1_2 (Conv2D)            (None, 224, 224, 64)      36928     \n",
      "                                                                 \n",
      " pool1 (MaxPooling2D)        (None, 112, 112, 64)      0         \n",
      "                                                                 \n",
      " conv2_1 (Conv2D)            (None, 112, 112, 128)     73856     \n",
      "                                                                 \n",
      " conv2_2 (Conv2D)            (None, 112, 112, 128)     147584    \n",
      "                                                                 \n",
      " pool2 (MaxPooling2D)        (None, 56, 56, 128)       0         \n",
      "                                                                 \n",
      " conv3_1 (Conv2D)            (None, 56, 56, 256)       295168    \n",
      "                                                                 \n",
      " conv3_2 (Conv2D)            (None, 56, 56, 256)       590080    \n",
      "                                                                 \n",
      " conv3_3 (Conv2D)            (None, 56, 56, 256)       590080    \n",
      "                                                                 \n",
      " pool3 (MaxPooling2D)        (None, 28, 28, 256)       0         \n",
      "                                                                 \n",
      " conv4_1 (Conv2D)            (None, 28, 28, 512)       1180160   \n",
      "                                                                 \n",
      " conv4_2 (Conv2D)            (None, 28, 28, 512)       2359808   \n",
      "                                                                 \n",
      " conv4_3 (Conv2D)            (None, 28, 28, 512)       2359808   \n",
      "                                                                 \n",
      " pool4 (MaxPooling2D)        (None, 14, 14, 512)       0         \n",
      "                                                                 \n",
      " conv5_1 (Conv2D)            (None, 14, 14, 512)       2359808   \n",
      "                                                                 \n",
      " conv5_2 (Conv2D)            (None, 14, 14, 512)       2359808   \n",
      "                                                                 \n",
      " conv5_3 (Conv2D)            (None, 14, 14, 512)       2359808   \n",
      "                                                                 \n",
      " pool5 (MaxPooling2D)        (None, 7, 7, 512)         0         \n",
      "                                                                 \n",
      " global_average_pooling2d (G  (None, 512)              0         \n",
      " lobalAveragePooling2D)                                          \n",
      "                                                                 \n",
      "=================================================================\n",
      "Total params: 14,714,688\n",
      "Trainable params: 0\n",
      "Non-trainable params: 14,714,688\n",
      "_________________________________________________________________\n"
     ]
    }
   ],
   "source": [
    "vggface.summary()"
   ]
  },
  {
   "cell_type": "code",
   "execution_count": 26,
   "metadata": {
    "executionInfo": {
     "elapsed": 455,
     "status": "ok",
     "timestamp": 1710893329361,
     "user": {
      "displayName": "이경로",
      "userId": "07872457750052396062"
     },
     "user_tz": -540
    },
    "id": "8hw7SirKloM_"
   },
   "outputs": [],
   "source": [
    "output_layer = vggface.get_layer('pool5').output\n",
    "x = Flatten(name='Flatten')(output_layer)\n",
    "x = Dense(units=512, activation='relu', name='Dense-1')(x)\n",
    "\n",
    "x = Dropout(rate=0.5, name='Dropout')(x)\n",
    "x = Dense(units=256, activation='relu', name='Dense-2')(x)\n",
    "\n",
    "x = Dense(units=5, activation='softmax', name='Output')(x)\n",
    "\n",
    "model_race = Model(inputs=vggface.input, outputs=x)"
   ]
  },
  {
   "cell_type": "code",
   "execution_count": 27,
   "metadata": {
    "executionInfo": {
     "elapsed": 9,
     "status": "ok",
     "timestamp": 1710893334564,
     "user": {
      "displayName": "이경로",
      "userId": "07872457750052396062"
     },
     "user_tz": -540
    },
    "id": "a3fSwjF0B28d"
   },
   "outputs": [],
   "source": [
    "# # output = Sequential()\n",
    "# # input = Input([224, 224, 3], dtype=tf.float32, name='Input')\n",
    "# output = Sequential()\n",
    "# output = Conv2D(2, (1, 1), name='Prediction')(model.layers[-4].output)\n",
    "# output = Flatten(name='Flatten')(output)\n",
    "# output = Dense(units=512, activation='relu', name='Dense-1')(output)\n",
    "# output = Dropout(rate=0.5, name='Dropout')(output)\n",
    "# output = Dense(units=1, activation='sigmoid', name='Output')(output)\n",
    "\n",
    "# model_gender = Model(inputs=model.input, outputs=output)"
   ]
  },
  {
   "cell_type": "code",
   "execution_count": 28,
   "metadata": {
    "colab": {
     "base_uri": "https://localhost:8080/"
    },
    "executionInfo": {
     "elapsed": 476,
     "status": "ok",
     "timestamp": 1710893335828,
     "user": {
      "displayName": "이경로",
      "userId": "07872457750052396062"
     },
     "user_tz": -540
    },
    "id": "tELvehFEB24x",
    "outputId": "23710be0-9462-42ac-ee71-06ad05fb64df"
   },
   "outputs": [
    {
     "name": "stdout",
     "output_type": "stream",
     "text": [
      "Model: \"model\"\n",
      "_________________________________________________________________\n",
      " Layer (type)                Output Shape              Param #   \n",
      "=================================================================\n",
      " input_1 (InputLayer)        [(None, 224, 224, 3)]     0         \n",
      "                                                                 \n",
      " conv1_1 (Conv2D)            (None, 224, 224, 64)      1792      \n",
      "                                                                 \n",
      " conv1_2 (Conv2D)            (None, 224, 224, 64)      36928     \n",
      "                                                                 \n",
      " pool1 (MaxPooling2D)        (None, 112, 112, 64)      0         \n",
      "                                                                 \n",
      " conv2_1 (Conv2D)            (None, 112, 112, 128)     73856     \n",
      "                                                                 \n",
      " conv2_2 (Conv2D)            (None, 112, 112, 128)     147584    \n",
      "                                                                 \n",
      " pool2 (MaxPooling2D)        (None, 56, 56, 128)       0         \n",
      "                                                                 \n",
      " conv3_1 (Conv2D)            (None, 56, 56, 256)       295168    \n",
      "                                                                 \n",
      " conv3_2 (Conv2D)            (None, 56, 56, 256)       590080    \n",
      "                                                                 \n",
      " conv3_3 (Conv2D)            (None, 56, 56, 256)       590080    \n",
      "                                                                 \n",
      " pool3 (MaxPooling2D)        (None, 28, 28, 256)       0         \n",
      "                                                                 \n",
      " conv4_1 (Conv2D)            (None, 28, 28, 512)       1180160   \n",
      "                                                                 \n",
      " conv4_2 (Conv2D)            (None, 28, 28, 512)       2359808   \n",
      "                                                                 \n",
      " conv4_3 (Conv2D)            (None, 28, 28, 512)       2359808   \n",
      "                                                                 \n",
      " pool4 (MaxPooling2D)        (None, 14, 14, 512)       0         \n",
      "                                                                 \n",
      " conv5_1 (Conv2D)            (None, 14, 14, 512)       2359808   \n",
      "                                                                 \n",
      " conv5_2 (Conv2D)            (None, 14, 14, 512)       2359808   \n",
      "                                                                 \n",
      " conv5_3 (Conv2D)            (None, 14, 14, 512)       2359808   \n",
      "                                                                 \n",
      " pool5 (MaxPooling2D)        (None, 7, 7, 512)         0         \n",
      "                                                                 \n",
      " Flatten (Flatten)           (None, 25088)             0         \n",
      "                                                                 \n",
      " Dense-1 (Dense)             (None, 512)               12845568  \n",
      "                                                                 \n",
      " Dropout (Dropout)           (None, 512)               0         \n",
      "                                                                 \n",
      " Dense-2 (Dense)             (None, 256)               131328    \n",
      "                                                                 \n",
      " Output (Dense)              (None, 5)                 1285      \n",
      "                                                                 \n",
      "=================================================================\n",
      "Total params: 27,692,869\n",
      "Trainable params: 12,978,181\n",
      "Non-trainable params: 14,714,688\n",
      "_________________________________________________________________\n"
     ]
    }
   ],
   "source": [
    "model_race.summary()"
   ]
  },
  {
   "cell_type": "code",
   "execution_count": 29,
   "metadata": {
    "executionInfo": {
     "elapsed": 803,
     "status": "ok",
     "timestamp": 1710893342513,
     "user": {
      "displayName": "이경로",
      "userId": "07872457750052396062"
     },
     "user_tz": -540
    },
    "id": "y3hbaRykBU8r"
   },
   "outputs": [],
   "source": [
    "# from keras_vggface import utils"
   ]
  },
  {
   "cell_type": "code",
   "execution_count": 30,
   "metadata": {
    "executionInfo": {
     "elapsed": 6,
     "status": "ok",
     "timestamp": 1710893346323,
     "user": {
      "displayName": "이경로",
      "userId": "07872457750052396062"
     },
     "user_tz": -540
    },
    "id": "nsQJx80rujhy"
   },
   "outputs": [],
   "source": [
    "# Hyperparameters.\n",
    "n_epochs = 200\n",
    "batch_size = 32\n",
    "learn_rate = 0.0001"
   ]
  },
  {
   "cell_type": "code",
   "execution_count": 31,
   "metadata": {
    "executionInfo": {
     "elapsed": 5,
     "status": "ok",
     "timestamp": 1710893348342,
     "user": {
      "displayName": "이경로",
      "userId": "07872457750052396062"
     },
     "user_tz": -540
    },
    "id": "xncjd7Qhujk5"
   },
   "outputs": [],
   "source": [
    "optimizer = Adam(learning_rate=learn_rate)\n",
    "model_race.compile(loss='binary_crossentropy', optimizer=optimizer, metrics=['accuracy'])"
   ]
  },
  {
   "cell_type": "code",
   "execution_count": 32,
   "metadata": {
    "executionInfo": {
     "elapsed": 8,
     "status": "ok",
     "timestamp": 1710893358375,
     "user": {
      "displayName": "이경로",
      "userId": "07872457750052396062"
     },
     "user_tz": -540
    },
    "id": "U2zUyDeCEP6Y"
   },
   "outputs": [],
   "source": [
    "early_stop = EarlyStopping(monitor='val_loss', mode='min', verbose=1, patience=5)\n",
    "check_point = ModelCheckpoint(filepath='./Code/CheckPoint/race_{epoch:02d}_{val_loss:.3f}.h5',\n",
    "                              monitor='val_loss', verbose=1, save_best_only=True, mode='min')"
   ]
  },
  {
   "cell_type": "code",
   "execution_count": null,
   "metadata": {
    "colab": {
     "base_uri": "https://localhost:8080/"
    },
    "id": "4Qnb8CTFFdtO",
    "outputId": "d0547147-7d3d-429c-907d-baf24382d224"
   },
   "outputs": [
    {
     "name": "stdout",
     "output_type": "stream",
     "text": [
      "Epoch 1/200\n",
      "231/290 [======================>.......] - ETA: 20:21 - loss: 1.2817 - accuracy: 0.3675"
     ]
    }
   ],
   "source": [
    "summary = model_race.fit_generator(train_race_generator,\n",
    "                                   steps_per_epoch=9311 // batch_size,\n",
    "                                   epochs=n_epochs,\n",
    "                                   validation_data=test_race_generator,\n",
    "                                   verbose=1, callbacks=[early_stop, check_point])"
   ]
  },
  {
   "cell_type": "code",
   "execution_count": 29,
   "metadata": {
    "executionInfo": {
     "elapsed": 16,
     "status": "ok",
     "timestamp": 1710841430722,
     "user": {
      "displayName": "이경로",
      "userId": "07872457750052396062"
     },
     "user_tz": -540
    },
    "id": "gNwjdkodLE_c"
   },
   "outputs": [],
   "source": [
    "# summary.history['val_loss']"
   ]
  },
  {
   "cell_type": "code",
   "execution_count": null,
   "metadata": {
    "id": "n_GH9qI0Fdp4"
   },
   "outputs": [],
   "source": [
    "# 학습 history 출력.\n",
    "n_skip = 0                 # Skip the first few steps.\n",
    "plt.plot(summary.history['accuracy'][n_skip:], c=\"b\")\n",
    "plt.plot(summary.history['val_accuracy'][n_skip:], c=\"g\")\n",
    "plt.title('Training History')\n",
    "plt.ylabel('Accuracy')\n",
    "plt.xlabel('Epoch')\n",
    "plt.legend(['Train', 'Validation'], loc='upper right')\n",
    "plt.show()"
   ]
  },
  {
   "cell_type": "code",
   "execution_count": 31,
   "metadata": {
    "executionInfo": {
     "elapsed": 5,
     "status": "ok",
     "timestamp": 1710841430722,
     "user": {
      "displayName": "이경로",
      "userId": "07872457750052396062"
     },
     "user_tz": -540
    },
    "id": "tDvGMb8fKF0k"
   },
   "outputs": [],
   "source": [
    "# model_gender.evaluate(test_gender_generator, verbose=0)"
   ]
  },
  {
   "cell_type": "code",
   "execution_count": null,
   "metadata": {
    "id": "jL23g2zsFdnD"
   },
   "outputs": [],
   "source": [
    "# 최종적으로 정확도 계산.\n",
    "ACC = model_race.evaluate(test_race_generator, verbose=0)[1]\n",
    "print(\"Test Accuracy : {}\".format(np.round(ACC, 3)))"
   ]
  },
  {
   "cell_type": "code",
   "execution_count": null,
   "metadata": {
    "id": "RBSnp3CIEPyl"
   },
   "outputs": [],
   "source": []
  },
  {
   "cell_type": "code",
   "execution_count": null,
   "metadata": {
    "id": "4wuzVrd_FwOa"
   },
   "outputs": [],
   "source": []
  },
  {
   "cell_type": "code",
   "execution_count": null,
   "metadata": {
    "id": "MUhHhJ5QF9Uu"
   },
   "outputs": [],
   "source": [
    "# def loadImage(filepath):\n",
    "#   test_img = image.load_img(filepath, target_size=(224, 224))\n",
    "#   test_img = image.img_to_array(test_img)\n",
    "#   test_img = np.expand_dims(test_img, axis = 0)\n",
    "#   test_img /= 255\n",
    "#   return test_img"
   ]
  },
  {
   "cell_type": "code",
   "execution_count": null,
   "metadata": {
    "id": "7puIktojM12h"
   },
   "outputs": [],
   "source": [
    "prediction = model_race.predict_generator(test_race_generator)\n",
    "print(np.round(prediction[:, 0]))\n",
    "print(prediction.shape)"
   ]
  },
  {
   "cell_type": "code",
   "execution_count": null,
   "metadata": {
    "id": "xgSr56CoM1wv"
   },
   "outputs": [],
   "source": []
  },
  {
   "cell_type": "code",
   "execution_count": null,
   "metadata": {
    "id": "f7QSM-oPGgRC"
   },
   "outputs": [],
   "source": [
    "# from PIL import Image"
   ]
  },
  {
   "cell_type": "code",
   "execution_count": null,
   "metadata": {
    "id": "QuKv5k4wGE1Q"
   },
   "outputs": [],
   "source": [
    "# img = Image.open('./Test/Gender/Female/27_1_2_20170116163338293.jpg.chip.jpg')\n",
    "# plt.imshow(img)"
   ]
  },
  {
   "cell_type": "code",
   "execution_count": null,
   "metadata": {
    "id": "J9LjuTxqRSgJ"
   },
   "outputs": [],
   "source": [
    "class_race = train_race_generator.class_indices\n",
    "class_race"
   ]
  },
  {
   "cell_type": "code",
   "execution_count": null,
   "metadata": {
    "id": "BgksOSpTRez4"
   },
   "outputs": [],
   "source": [
    "train_race_generator.filepaths[0]"
   ]
  },
  {
   "cell_type": "code",
   "execution_count": null,
   "metadata": {
    "id": "KqCwXEWrW52o"
   },
   "outputs": [],
   "source": [
    "prediction[249]"
   ]
  },
  {
   "cell_type": "code",
   "execution_count": null,
   "metadata": {
    "id": "v92Hm7WIXmRf"
   },
   "outputs": [],
   "source": [
    "class_race"
   ]
  },
  {
   "cell_type": "code",
   "execution_count": null,
   "metadata": {
    "id": "-QqzkimrYgSx"
   },
   "outputs": [],
   "source": [
    "class_race_inv = {v:k for k,v in class_race.items()}"
   ]
  },
  {
   "cell_type": "code",
   "execution_count": null,
   "metadata": {
    "id": "0IYEGHynYnYN"
   },
   "outputs": [],
   "source": [
    "class_race_inv"
   ]
  },
  {
   "cell_type": "code",
   "execution_count": null,
   "metadata": {
    "id": "Yeo6Qd6pYJB_"
   },
   "outputs": [],
   "source": [
    "df = pd.read_csv('./data01.csv')\n",
    "df"
   ]
  },
  {
   "cell_type": "code",
   "execution_count": null,
   "metadata": {
    "id": "2Yly2jNjYlUy"
   },
   "outputs": [],
   "source": [
    "df_20 = df[df['age'] // 10 == 2].reset_index(drop=True)\n",
    "df_20"
   ]
  },
  {
   "cell_type": "code",
   "execution_count": null,
   "metadata": {
    "id": "LOod1dDAZVqj"
   },
   "outputs": [],
   "source": [
    "# def preprocess_image(img) :\n",
    "#   x = image.img_to_array(img)\n",
    "#   x = np.expand_dims(img, axis=0)\n",
    "#   x = utils.preprocess_input(img, version=1)\n",
    "#   return x"
   ]
  },
  {
   "cell_type": "code",
   "execution_count": null,
   "metadata": {
    "id": "ri7KoRELbGOW"
   },
   "outputs": [],
   "source": [
    "from keras_vggface import utils"
   ]
  },
  {
   "cell_type": "code",
   "execution_count": null,
   "metadata": {
    "id": "93WigotUujqu"
   },
   "outputs": [],
   "source": [
    "# for idx in [random.randint(0, df_20.shape[0] - 1) for _ in range(5)]:\n",
    "#   print(class_gender_inv[np.round(pred[0][0])])\n",
    "#   file_name = df_20.iloc[idx, 0]\n",
    "#   img = image.load_img('./UTKFace/' + file_name, target_size=(224, 224))\n",
    "\n",
    "#   x = image.img_to_array(img)\n",
    "#   x = np.expand_dims(x, axis=0)\n",
    "#   x = utils.preprocess_input(x, version=1)\n",
    "#   pred = model_gender.predict_generator(x)\n",
    "#   # print('Result : ', utils.decode_predictions(pred))\n",
    "#   plt.figure(figsize=(1.5, 1.5))\n",
    "#   plt.axis('off')\n",
    "#   plt.imshow(img)\n"
   ]
  },
  {
   "cell_type": "code",
   "execution_count": null,
   "metadata": {
    "id": "RV8KuIT9WeCs"
   },
   "outputs": [],
   "source": []
  },
  {
   "cell_type": "code",
   "execution_count": null,
   "metadata": {
    "id": "F5csxiWHFiiA"
   },
   "outputs": [],
   "source": [
    "img = image.load_img('./UTKFace/29_0_3_20170117022426014.jpg.chip.jpg', target_size=(224, 224))\n",
    "\n",
    "x = image.img_to_array(img)\n",
    "x = np.expand_dims(x, axis=0)\n",
    "x = utils.preprocess_input(x, version=1)\n",
    "pred = model_race.predict_generator(x)\n",
    "# print('Result : ', utils.decode_predictions(pred))\n",
    "plt.imshow(img)\n",
    "plt.axis('off')\n",
    "print(class_race_inv[np.round(pred[0][0])])\n",
    "# print(utils.decode_predictions(pred))"
   ]
  },
  {
   "cell_type": "code",
   "execution_count": null,
   "metadata": {
    "id": "u5j7F8r5W34F"
   },
   "outputs": [],
   "source": []
  }
 ],
 "metadata": {
  "accelerator": "GPU",
  "colab": {
   "authorship_tag": "ABX9TyPeejVnkAODTHSnFisN4MfO",
   "gpuType": "V100",
   "machine_shape": "hm",
   "mount_file_id": "1T8X4SsH-_ZGJXXc0GvdzR0JdnFhXSA_c",
   "provenance": []
  },
  "kernelspec": {
   "display_name": "Python 3 (ipykernel)",
   "language": "python",
   "name": "python3"
  },
  "language_info": {
   "codemirror_mode": {
    "name": "ipython",
    "version": 3
   },
   "file_extension": ".py",
   "mimetype": "text/x-python",
   "name": "python",
   "nbconvert_exporter": "python",
   "pygments_lexer": "ipython3",
   "version": "3.11.7"
  }
 },
 "nbformat": 4,
 "nbformat_minor": 4
}
